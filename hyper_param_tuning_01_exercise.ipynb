{
 "cells": [
  {
   "cell_type": "markdown",
   "metadata": {
    "colab_type": "text",
    "id": "NEHCvFhIvR4F"
   },
   "source": [
    "### Bayesian Optimization을 이용하여 application과 previous로 만들어진 집합의 하이퍼 파라미터 튜닝"
   ]
  },
  {
   "cell_type": "markdown",
   "metadata": {
    "colab_type": "text",
    "id": "eg1AO0nNvR4H"
   },
   "source": [
    "#### 라이브러리 및 데이터 세트 로딩. 이전 application 데이터의 FE 함수 복사"
   ]
  },
  {
   "cell_type": "code",
   "execution_count": 1,
   "metadata": {
    "colab": {},
    "colab_type": "code",
    "id": "il0VyvcgvR4K"
   },
   "outputs": [],
   "source": [
    "import numpy as np\n",
    "import pandas as pd\n",
    "import gc\n",
    "import time\n",
    "import matplotlib.pyplot as plt\n",
    "import seaborn as sns\n",
    "import os\n",
    "%matplotlib inline\n",
    "\n",
    "pd.set_option('display.max_rows', 100)\n",
    "pd.set_option('display.max_columns', 200)"
   ]
  },
  {
   "cell_type": "code",
   "execution_count": 2,
   "metadata": {
    "colab": {
     "base_uri": "https://localhost:8080/",
     "height": 131
    },
    "colab_type": "code",
    "executionInfo": {
     "elapsed": 23178,
     "status": "ok",
     "timestamp": 1599720281125,
     "user": {
      "displayName": "권철민",
      "photoUrl": "",
      "userId": "03917677622451543916"
     },
     "user_tz": -540
    },
    "id": "VHiS9-DqwUk_",
    "outputId": "e6e77801-773b-4e48-fa9e-59c242c259d6"
   },
   "outputs": [],
   "source": [
    "def get_dataset():\n",
    "    app_train = pd.read_csv('C:/Users/JunDragon/kaggel/HCDR/application_train.csv')\n",
    "    app_test = pd.read_csv('C:/Users/JunDragon/kaggel/HCDR/application_test.csv')\n",
    "    apps = pd.concat([app_train, app_test])\n",
    "    prev = pd.read_csv('previous_application.csv')\n",
    "\n",
    "    return apps, prev\n",
    "\n",
    "apps, prev = get_dataset()"
   ]
  },
  {
   "cell_type": "markdown",
   "metadata": {
    "colab_type": "text",
    "id": "rmG4YOdpvR4e"
   },
   "source": [
    "#### 이전 application 데이터의 feature engineering 함수 복사"
   ]
  },
  {
   "cell_type": "code",
   "execution_count": 3,
   "metadata": {
    "colab": {},
    "colab_type": "code",
    "id": "2WIrIw4uvR4h"
   },
   "outputs": [],
   "source": [
    "def get_apps_processed(apps):\n",
    "    \n",
    "    # EXT_SOURCE_X FEATURE 가공\n",
    "    apps['APPS_EXT_SOURCE_MEAN'] = apps[['EXT_SOURCE_1', 'EXT_SOURCE_2', 'EXT_SOURCE_3']].mean(axis=1)\n",
    "    apps['APPS_EXT_SOURCE_STD'] = apps[['EXT_SOURCE_1', 'EXT_SOURCE_2', 'EXT_SOURCE_3']].std(axis=1)\n",
    "    apps['APPS_EXT_SOURCE_STD'] = apps['APPS_EXT_SOURCE_STD'].fillna(apps['APPS_EXT_SOURCE_STD'].mean())\n",
    "    \n",
    "    # AMT_CREDIT 비율로 Feature 가공\n",
    "    apps['APPS_ANNUITY_CREDIT_RATIO'] = apps['AMT_ANNUITY']/apps['AMT_CREDIT']\n",
    "    apps['APPS_GOODS_CREDIT_RATIO'] = apps['AMT_GOODS_PRICE']/apps['AMT_CREDIT']\n",
    "    \n",
    "    # AMT_INCOME_TOTAL 비율로 Feature 가공\n",
    "    apps['APPS_ANNUITY_INCOME_RATIO'] = apps['AMT_ANNUITY']/apps['AMT_INCOME_TOTAL']\n",
    "    apps['APPS_CREDIT_INCOME_RATIO'] = apps['AMT_CREDIT']/apps['AMT_INCOME_TOTAL']\n",
    "    apps['APPS_GOODS_INCOME_RATIO'] = apps['AMT_GOODS_PRICE']/apps['AMT_INCOME_TOTAL']\n",
    "    apps['APPS_CNT_FAM_INCOME_RATIO'] = apps['AMT_INCOME_TOTAL']/apps['CNT_FAM_MEMBERS']\n",
    "    \n",
    "    # DAYS_BIRTH, DAYS_EMPLOYED 비율로 Feature 가공\n",
    "    apps['APPS_EMPLOYED_BIRTH_RATIO'] = apps['DAYS_EMPLOYED']/apps['DAYS_BIRTH']\n",
    "    apps['APPS_INCOME_EMPLOYED_RATIO'] = apps['AMT_INCOME_TOTAL']/apps['DAYS_EMPLOYED']\n",
    "    apps['APPS_INCOME_BIRTH_RATIO'] = apps['AMT_INCOME_TOTAL']/apps['DAYS_BIRTH']\n",
    "    apps['APPS_CAR_BIRTH_RATIO'] = apps['OWN_CAR_AGE'] / apps['DAYS_BIRTH']\n",
    "    apps['APPS_CAR_EMPLOYED_RATIO'] = apps['OWN_CAR_AGE'] / apps['DAYS_EMPLOYED']\n",
    "    \n",
    "    return apps"
   ]
  },
  {
   "cell_type": "markdown",
   "metadata": {
    "colab_type": "text",
    "id": "9mU0PqE9vR4o"
   },
   "source": [
    "#### previous 데이터 가공후 인코딩 및 최종 데이터 집합 생성하는 함수 선언"
   ]
  },
  {
   "cell_type": "code",
   "execution_count": 4,
   "metadata": {
    "colab": {},
    "colab_type": "code",
    "id": "VOSuDuMvvR4p"
   },
   "outputs": [],
   "source": [
    "from sklearn.model_selection import train_test_split\n",
    "from lightgbm import LGBMClassifier\n",
    "\n",
    "def get_prev_processed(prev):\n",
    "    # 대출 신청 금액과 실제 대출액/대출 상품금액 차이 및 비율\n",
    "    prev['PREV_CREDIT_DIFF'] = prev['AMT_APPLICATION'] - prev['AMT_CREDIT']\n",
    "    prev['PREV_GOODS_DIFF'] = prev['AMT_APPLICATION'] - prev['AMT_GOODS_PRICE']\n",
    "    prev['PREV_CREDIT_APPL_RATIO'] = prev['AMT_CREDIT']/prev['AMT_APPLICATION']\n",
    "    # prev['PREV_ANNUITY_APPL_RATIO'] = prev['AMT_ANNUITY']/prev['AMT_APPLICATION']\n",
    "    prev['PREV_GOODS_APPL_RATIO'] = prev['AMT_GOODS_PRICE']/prev['AMT_APPLICATION']\n",
    "    \n",
    "    prev['DAYS_FIRST_DRAWING'].replace(365243, np.nan, inplace= True)\n",
    "    prev['DAYS_FIRST_DUE'].replace(365243, np.nan, inplace= True)\n",
    "    prev['DAYS_LAST_DUE_1ST_VERSION'].replace(365243, np.nan, inplace= True)\n",
    "    prev['DAYS_LAST_DUE'].replace(365243, np.nan, inplace= True)\n",
    "    prev['DAYS_TERMINATION'].replace(365243, np.nan, inplace= True)\n",
    "    # 첫번째 만기일과 마지막 만기일까지의 기간\n",
    "    prev['PREV_DAYS_LAST_DUE_DIFF'] = prev['DAYS_LAST_DUE_1ST_VERSION'] - prev['DAYS_LAST_DUE']\n",
    "    # 매월 납부 금액과 납부 횟수 곱해서 전체 납부 금액 구함. \n",
    "    all_pay = prev['AMT_ANNUITY'] * prev['CNT_PAYMENT']\n",
    "    # 전체 납부 금액 대비 AMT_CREDIT 비율을 구하고 여기에 다시 납부횟수로 나누어서 이자율 계산. \n",
    "    prev['PREV_INTERESTS_RATE'] = (all_pay/prev['AMT_CREDIT'] - 1)/prev['CNT_PAYMENT']\n",
    "        \n",
    "    return prev\n",
    "    \n",
    "    \n",
    "def get_prev_amt_agg(prev):\n",
    "    # 새롭게 생성된 대출 신청액 대비 다른 금액 차이 및 비율로 aggregation 수행. \n",
    "    agg_dict = {\n",
    "         # 기존 컬럼. \n",
    "        'SK_ID_CURR':['count'],\n",
    "        'AMT_CREDIT':['mean', 'max', 'sum'],\n",
    "        'AMT_ANNUITY':['mean', 'max', 'sum'], \n",
    "        'AMT_APPLICATION':['mean', 'max', 'sum'],\n",
    "        'AMT_DOWN_PAYMENT':['mean', 'max', 'sum'],\n",
    "        'AMT_GOODS_PRICE':['mean', 'max', 'sum'],\n",
    "        'RATE_DOWN_PAYMENT': ['min', 'max', 'mean'],\n",
    "        'DAYS_DECISION': ['min', 'max', 'mean'],\n",
    "        'CNT_PAYMENT': ['mean', 'sum'],\n",
    "        # 가공 컬럼\n",
    "        'PREV_CREDIT_DIFF':['mean', 'max', 'sum'], \n",
    "        'PREV_CREDIT_APPL_RATIO':['mean', 'max'],\n",
    "        'PREV_GOODS_DIFF':['mean', 'max', 'sum'],\n",
    "        'PREV_GOODS_APPL_RATIO':['mean', 'max'],\n",
    "        'PREV_DAYS_LAST_DUE_DIFF':['mean', 'max', 'sum'],\n",
    "        'PREV_INTERESTS_RATE':['mean', 'max']\n",
    "    }\n",
    "\n",
    "    prev_group = prev.groupby('SK_ID_CURR')\n",
    "    prev_amt_agg = prev_group.agg(agg_dict)\n",
    "\n",
    "    # multi index 컬럼을 '_'로 연결하여 컬럼명 변경\n",
    "    prev_amt_agg.columns = [\"PREV_\"+ \"_\".join(x).upper() for x in prev_amt_agg.columns.ravel()]\n",
    "    \n",
    "    return prev_amt_agg\n",
    "\n",
    "def get_prev_refused_appr_agg(prev):\n",
    "    # 원래 groupby 컬럼 + 세부 기준 컬럼으로 groupby 수행. 세분화된 레벨로 aggregation 수행 한 뒤에 unstack()으로 컬럼레벨로 변형. \n",
    "    prev_refused_appr_group = prev[prev['NAME_CONTRACT_STATUS'].isin(['Approved', 'Refused'])].groupby([ 'SK_ID_CURR', 'NAME_CONTRACT_STATUS'])\n",
    "    prev_refused_appr_agg = prev_refused_appr_group['SK_ID_CURR'].count().unstack()\n",
    "    # 컬럼명 변경. \n",
    "    prev_refused_appr_agg.columns = ['PREV_APPROVED_COUNT', 'PREV_REFUSED_COUNT' ]\n",
    "    # NaN값은 모두 0으로 변경. \n",
    "    prev_refused_appr_agg = prev_refused_appr_agg.fillna(0)\n",
    "    \n",
    "    return prev_refused_appr_agg\n",
    "\n",
    "    \n",
    "\n",
    "def get_prev_agg(prev):\n",
    "    prev = get_prev_processed(prev)\n",
    "    prev_amt_agg = get_prev_amt_agg(prev)\n",
    "    prev_refused_appr_agg = get_prev_refused_appr_agg(prev)\n",
    "    \n",
    "    # prev_amt_agg와 조인. \n",
    "    prev_agg = prev_amt_agg.merge(prev_refused_appr_agg, on='SK_ID_CURR', how='left')\n",
    "    # SK_ID_CURR별 과거 대출건수 대비 APPROVED_COUNT 및 REFUSED_COUNT 비율 생성. \n",
    "    prev_agg['PREV_REFUSED_RATIO'] = prev_agg['PREV_REFUSED_COUNT']/prev_agg['PREV_SK_ID_CURR_COUNT']\n",
    "    prev_agg['PREV_APPROVED_RATIO'] = prev_agg['PREV_APPROVED_COUNT']/prev_agg['PREV_SK_ID_CURR_COUNT']\n",
    "    # 'PREV_REFUSED_COUNT', 'PREV_APPROVED_COUNT' 컬럼 drop \n",
    "    prev_agg = prev_agg.drop(['PREV_REFUSED_COUNT', 'PREV_APPROVED_COUNT'], axis=1)\n",
    "    \n",
    "    return prev_agg\n",
    "\n",
    "def get_apps_all_with_prev_agg(apps, prev):\n",
    "    apps_all =  get_apps_processed(apps)\n",
    "    prev_agg = get_prev_agg(prev)\n",
    "    print('prev_agg shape:', prev_agg.shape)\n",
    "    print('apps_all before merge shape:', apps_all.shape)\n",
    "    apps_all = apps_all.merge(prev_agg, on='SK_ID_CURR', how='left')\n",
    "    print('apps_all after merge with prev_agg shape:', apps_all.shape)\n",
    "    \n",
    "    return apps_all\n",
    "\n",
    "def get_apps_all_encoded(apps_all):\n",
    "    object_columns = apps_all.dtypes[apps_all.dtypes == 'object'].index.tolist()\n",
    "    for column in object_columns:\n",
    "        apps_all[column] = pd.factorize(apps_all[column])[0]\n",
    "    \n",
    "    return apps_all\n",
    "\n",
    "def get_apps_all_train_test(apps_all):\n",
    "    apps_all_train = apps_all[~apps_all['TARGET'].isnull()]\n",
    "    apps_all_test = apps_all[apps_all['TARGET'].isnull()]\n",
    "\n",
    "    apps_all_test = apps_all_test.drop('TARGET', axis=1)\n",
    "    \n",
    "    return apps_all_train, apps_all_test\n",
    "    \n",
    "def train_apps_all(apps_all_train):\n",
    "    ftr_app = apps_all_train.drop(['SK_ID_CURR', 'TARGET'], axis=1)\n",
    "    target_app = apps_all_train['TARGET']\n",
    "\n",
    "    train_x, valid_x, train_y, valid_y = train_test_split(ftr_app, target_app, test_size=0.3, random_state=2020)\n",
    "    print('train shape:', train_x.shape, 'valid shape:', valid_x.shape)\n",
    "    clf = LGBMClassifier(\n",
    "                nthread=4,\n",
    "                n_estimators=2000,\n",
    "                learning_rate=0.01,\n",
    "                num_leaves=32,\n",
    "                colsample_bytree=0.8,\n",
    "                subsample=0.8,\n",
    "                max_depth=8,\n",
    "                reg_alpha=0.04,\n",
    "                reg_lambda=0.07,\n",
    "                min_child_weight=40,\n",
    "                silent=-1,\n",
    "                verbose=-1,\n",
    "                )\n",
    "\n",
    "    clf.fit(train_x, train_y, eval_set=[(train_x, train_y), (valid_x, valid_y)], eval_metric= 'auc', verbose= 100, \n",
    "                early_stopping_rounds= 100)\n",
    "    \n",
    "    return clf"
   ]
  },
  {
   "cell_type": "markdown",
   "metadata": {
    "colab_type": "text",
    "id": "nqqmKKhrvR4w"
   },
   "source": [
    "##### 최종 집합 생성 및 인코딩, 학습/테스트 데이터 분리, 학습/검증 피처와 타겟 데이터 분리"
   ]
  },
  {
   "cell_type": "code",
   "execution_count": 5,
   "metadata": {
    "colab": {
     "base_uri": "https://localhost:8080/",
     "height": 74
    },
    "colab_type": "code",
    "executionInfo": {
     "elapsed": 9499,
     "status": "ok",
     "timestamp": 1599720328172,
     "user": {
      "displayName": "권철민",
      "photoUrl": "",
      "userId": "03917677622451543916"
     },
     "user_tz": -540
    },
    "id": "-vsBLQ8FvR4x",
    "outputId": "16575155-27fa-4510-bbb5-7bfe7144f19a"
   },
   "outputs": [
    {
     "name": "stdout",
     "output_type": "stream",
     "text": [
      "prev_agg shape: (338857, 41)\n",
      "apps_all before merge shape: (356255, 135)\n",
      "apps_all after merge with prev_agg shape: (356255, 176)\n"
     ]
    }
   ],
   "source": [
    "apps_all = get_apps_all_with_prev_agg(apps, prev)\n",
    "apps_all = get_apps_all_encoded(apps_all)\n",
    "apps_all_train, apps_all_test = get_apps_all_train_test(apps_all)\n",
    "ftr_app = apps_all_train.drop(['SK_ID_CURR', 'TARGET'], axis=1)\n",
    "target_app = apps_all_train['TARGET']\n",
    "train_x, valid_x, train_y, valid_y = train_test_split(ftr_app, target_app, test_size=0.3, random_state=2020)\n"
   ]
  },
  {
   "cell_type": "markdown",
   "metadata": {
    "colab_type": "text",
    "id": "DEOB24lVvR47"
   },
   "source": [
    "#### Bayesian Optimization "
   ]
  },
  {
   "cell_type": "code",
   "execution_count": 6,
   "metadata": {
    "colab": {
     "base_uri": "https://localhost:8080/",
     "height": 282
    },
    "colab_type": "code",
    "executionInfo": {
     "elapsed": 5630,
     "status": "ok",
     "timestamp": 1599720420983,
     "user": {
      "displayName": "권철민",
      "photoUrl": "",
      "userId": "03917677622451543916"
     },
     "user_tz": -540
    },
    "id": "MDf92dTOw0rR",
    "outputId": "fbf92f64-95cc-4fed-b03e-def2cc61f2ca"
   },
   "outputs": [
    {
     "name": "stdout",
     "output_type": "stream",
     "text": [
      "Requirement already satisfied: bayesian-optimization in c:\\users\\jundragon\\anaconda3\\envs\\tf-gpu\\lib\\site-packages (1.1.0)\n",
      "Requirement already satisfied: scipy>=0.14.0 in c:\\users\\jundragon\\anaconda3\\envs\\tf-gpu\\lib\\site-packages (from bayesian-optimization) (1.5.0)\n",
      "Requirement already satisfied: scikit-learn>=0.18.0 in c:\\users\\jundragon\\anaconda3\\envs\\tf-gpu\\lib\\site-packages (from bayesian-optimization) (0.23.2)\n",
      "Requirement already satisfied: numpy>=1.9.0 in c:\\users\\jundragon\\anaconda3\\envs\\tf-gpu\\lib\\site-packages (from bayesian-optimization) (1.19.1)\n",
      "Requirement already satisfied: threadpoolctl>=2.0.0 in c:\\users\\jundragon\\anaconda3\\envs\\tf-gpu\\lib\\site-packages (from scikit-learn>=0.18.0->bayesian-optimization) (2.1.0)\n",
      "Requirement already satisfied: joblib>=0.11 in c:\\users\\jundragon\\anaconda3\\envs\\tf-gpu\\lib\\site-packages (from scikit-learn>=0.18.0->bayesian-optimization) (0.17.0)\n"
     ]
    }
   ],
   "source": [
    "# bayesian optimization 패키지 설치\n",
    "!pip install bayesian-optimization"
   ]
  },
  {
   "cell_type": "code",
   "execution_count": 7,
   "metadata": {
    "colab": {},
    "colab_type": "code",
    "id": "MDQVRZeRvR48"
   },
   "outputs": [],
   "source": [
    "from bayes_opt import BayesianOptimization\n",
    "from sklearn.metrics import roc_auc_score\n",
    "from lightgbm import LGBMClassifier"
   ]
  },
  {
   "cell_type": "markdown",
   "metadata": {
    "colab_type": "text",
    "id": "dDmrYrAUvR5B"
   },
   "source": [
    "##### 함수의 입력값 search 범위(하이퍼 파라미터 별 입력 범위) 를 설정"
   ]
  },
  {
   "cell_type": "code",
   "execution_count": 8,
   "metadata": {
    "colab": {},
    "colab_type": "code",
    "id": "NrIZzOHbvR5C"
   },
   "outputs": [],
   "source": [
    "# parameter 별로 search할 범위를 설정. \n",
    "bayesian_params = {\n",
    "    'max_depth': (6, 16), \n",
    "    'num_leaves': (24, 64), \n",
    "    'min_child_samples': (10, 200), \n",
    "    'min_child_weight':(1, 50),\n",
    "    'subsample':(0.5, 1.0),\n",
    "    'colsample_bytree': (0.5, 1.0),\n",
    "    'max_bin':(10, 500),\n",
    "    'reg_lambda':(0.001, 10),\n",
    "    'reg_alpha': (0.01, 50) \n",
    "}"
   ]
  },
  {
   "cell_type": "markdown",
   "metadata": {
    "colab_type": "text",
    "id": "yog23y34vR5H"
   },
   "source": [
    "##### 최대 값을 구할 함수 선언. \n",
    "* iteration 시 마다 hyperparameter를 입력받아 classifier 학습하고 roc_auc_score값을 반환 "
   ]
  },
  {
   "cell_type": "code",
   "execution_count": 9,
   "metadata": {
    "colab": {},
    "colab_type": "code",
    "id": "YduL1j4RvR5J"
   },
   "outputs": [],
   "source": [
    "def lgb_roc_eval(max_depth, num_leaves, min_child_samples, min_child_weight, subsample,\n",
    "                colsample_bytree, max_bin, reg_lambda, reg_alpha):\n",
    "    \n",
    "    params = {\n",
    "        \"n_estimators\":500, \"learning_rate\":0.02,\n",
    "        'max_depth':int(round(max_depth)),\n",
    "        'num_leaves':int(round(num_leaves)),\n",
    "        'min_child_samples': int(round(min_child_samples)),\n",
    "        'min_child_weight': int(round(min_child_weight)),\n",
    "        'subsample':max(min(subsample, 1), 0), \n",
    "        'colsample_bytree':max(min(colsample_bytree, 1), 0), \n",
    "        'max_bin':  max(int(round(max_bin)),10),\n",
    "        'reg_lambda': max(reg_lambda,0),\n",
    "        'reg_alpha': max(reg_alpha, 0)\n",
    "\n",
    "    }\n",
    "    \n",
    "    lgb_model = LGBMClassifier(**params)\n",
    "    lgb_model.fit(train_x, train_y, eval_set=[(train_x, train_y), (valid_x, valid_y)], eval_metric= 'auc', verbose= 100, \n",
    "                early_stopping_rounds= 100)\n",
    "    valid_proba = lgb_model.predict_proba(valid_x)[:, 1]\n",
    "    roc_auc = roc_auc_score(valid_y, valid_proba)\n",
    "    \n",
    "    return roc_auc   "
   ]
  },
  {
   "cell_type": "markdown",
   "metadata": {
    "colab_type": "text",
    "id": "cmnQwMudvR5Q"
   },
   "source": [
    "##### BayesianOptimization 객체 생성 후 함수 반환값이 최대가 되는 입력값 search를 위한 iteration 수행"
   ]
  },
  {
   "cell_type": "code",
   "execution_count": 10,
   "metadata": {
    "colab": {
     "base_uri": "https://localhost:8080/",
     "height": 639
    },
    "colab_type": "code",
    "id": "Vcny5qJrvR5R",
    "outputId": "4f6708e1-b153-40c8-a0e7-98880aea2310",
    "scrolled": true
   },
   "outputs": [
    {
     "name": "stdout",
     "output_type": "stream",
     "text": [
      "|   iter    |  target   | colsam... |  max_bin  | max_depth | min_ch... | min_ch... | num_le... | reg_alpha | reg_la... | subsample |\n",
      "-------------------------------------------------------------------------------------------------------------------------------------\n",
      "Training until validation scores don't improve for 100 rounds\n",
      "[100]\ttraining's auc: 0.769422\ttraining's binary_logloss: 0.246058\tvalid_1's auc: 0.755131\tvalid_1's binary_logloss: 0.248962\n",
      "[200]\ttraining's auc: 0.787339\ttraining's binary_logloss: 0.238433\tvalid_1's auc: 0.766456\tvalid_1's binary_logloss: 0.24414\n",
      "[300]\ttraining's auc: 0.79899\ttraining's binary_logloss: 0.233974\tvalid_1's auc: 0.771514\tvalid_1's binary_logloss: 0.242318\n",
      "[400]\ttraining's auc: 0.807993\ttraining's binary_logloss: 0.230612\tvalid_1's auc: 0.774196\tvalid_1's binary_logloss: 0.241387\n",
      "[500]\ttraining's auc: 0.815989\ttraining's binary_logloss: 0.227675\tvalid_1's auc: 0.775755\tvalid_1's binary_logloss: 0.240832\n",
      "Did not meet early stopping. Best iteration is:\n",
      "[500]\ttraining's auc: 0.815989\ttraining's binary_logloss: 0.227675\tvalid_1's auc: 0.775755\tvalid_1's binary_logloss: 0.240832\n",
      "| \u001b[0m 1       \u001b[0m | \u001b[0m 0.7758  \u001b[0m | \u001b[0m 0.7744  \u001b[0m | \u001b[0m 360.4   \u001b[0m | \u001b[0m 12.03   \u001b[0m | \u001b[0m 113.5   \u001b[0m | \u001b[0m 21.76   \u001b[0m | \u001b[0m 49.84   \u001b[0m | \u001b[0m 21.88   \u001b[0m | \u001b[0m 8.918   \u001b[0m | \u001b[0m 0.9818  \u001b[0m |\n",
      "Training until validation scores don't improve for 100 rounds\n",
      "[100]\ttraining's auc: 0.762607\ttraining's binary_logloss: 0.247403\tvalid_1's auc: 0.753906\tvalid_1's binary_logloss: 0.249078\n",
      "[200]\ttraining's auc: 0.780221\ttraining's binary_logloss: 0.240422\tvalid_1's auc: 0.765727\tvalid_1's binary_logloss: 0.244242\n",
      "[300]\ttraining's auc: 0.790896\ttraining's binary_logloss: 0.236479\tvalid_1's auc: 0.77103\tvalid_1's binary_logloss: 0.242327\n",
      "[400]\ttraining's auc: 0.799101\ttraining's binary_logloss: 0.233521\tvalid_1's auc: 0.773901\tvalid_1's binary_logloss: 0.2413\n",
      "[500]\ttraining's auc: 0.805962\ttraining's binary_logloss: 0.231078\tvalid_1's auc: 0.775357\tvalid_1's binary_logloss: 0.240762\n",
      "Did not meet early stopping. Best iteration is:\n",
      "[500]\ttraining's auc: 0.805962\ttraining's binary_logloss: 0.231078\tvalid_1's auc: 0.775357\tvalid_1's binary_logloss: 0.240762\n",
      "| \u001b[0m 2       \u001b[0m | \u001b[0m 0.7754  \u001b[0m | \u001b[0m 0.6917  \u001b[0m | \u001b[0m 397.9   \u001b[0m | \u001b[0m 11.29   \u001b[0m | \u001b[0m 117.9   \u001b[0m | \u001b[0m 46.35   \u001b[0m | \u001b[0m 26.84   \u001b[0m | \u001b[0m 4.366   \u001b[0m | \u001b[0m 0.2032  \u001b[0m | \u001b[0m 0.9163  \u001b[0m |\n",
      "Training until validation scores don't improve for 100 rounds\n",
      "[100]\ttraining's auc: 0.775996\ttraining's binary_logloss: 0.243791\tvalid_1's auc: 0.75771\tvalid_1's binary_logloss: 0.247867\n",
      "[200]\ttraining's auc: 0.796959\ttraining's binary_logloss: 0.235042\tvalid_1's auc: 0.768755\tvalid_1's binary_logloss: 0.243188\n",
      "[300]\ttraining's auc: 0.81204\ttraining's binary_logloss: 0.229276\tvalid_1's auc: 0.773259\tvalid_1's binary_logloss: 0.241596\n",
      "[400]\ttraining's auc: 0.824959\ttraining's binary_logloss: 0.22449\tvalid_1's auc: 0.775901\tvalid_1's binary_logloss: 0.240683\n",
      "[500]\ttraining's auc: 0.835733\ttraining's binary_logloss: 0.220409\tvalid_1's auc: 0.777094\tvalid_1's binary_logloss: 0.240247\n",
      "Did not meet early stopping. Best iteration is:\n",
      "[500]\ttraining's auc: 0.835733\ttraining's binary_logloss: 0.220409\tvalid_1's auc: 0.777094\tvalid_1's binary_logloss: 0.240247\n",
      "| \u001b[95m 3       \u001b[0m | \u001b[95m 0.7771  \u001b[0m | \u001b[95m 0.8891  \u001b[0m | \u001b[95m 436.3   \u001b[0m | \u001b[95m 15.79   \u001b[0m | \u001b[95m 161.8   \u001b[0m | \u001b[95m 23.61   \u001b[0m | \u001b[95m 55.22   \u001b[0m | \u001b[95m 5.923   \u001b[0m | \u001b[95m 6.4     \u001b[0m | \u001b[95m 0.5717  \u001b[0m |\n",
      "Training until validation scores don't improve for 100 rounds\n",
      "[100]\ttraining's auc: 0.765744\ttraining's binary_logloss: 0.246899\tvalid_1's auc: 0.753886\tvalid_1's binary_logloss: 0.249215\n",
      "[200]\ttraining's auc: 0.782824\ttraining's binary_logloss: 0.239831\tvalid_1's auc: 0.765228\tvalid_1's binary_logloss: 0.24453\n",
      "[300]\ttraining's auc: 0.79353\ttraining's binary_logloss: 0.235787\tvalid_1's auc: 0.770618\tvalid_1's binary_logloss: 0.2426\n",
      "[400]\ttraining's auc: 0.801566\ttraining's binary_logloss: 0.232814\tvalid_1's auc: 0.773499\tvalid_1's binary_logloss: 0.241576\n",
      "[500]\ttraining's auc: 0.808263\ttraining's binary_logloss: 0.230355\tvalid_1's auc: 0.774994\tvalid_1's binary_logloss: 0.241041\n",
      "Did not meet early stopping. Best iteration is:\n",
      "[500]\ttraining's auc: 0.808263\ttraining's binary_logloss: 0.230355\tvalid_1's auc: 0.774994\tvalid_1's binary_logloss: 0.241041\n",
      "| \u001b[0m 4       \u001b[0m | \u001b[0m 0.775   \u001b[0m | \u001b[0m 0.9723  \u001b[0m | \u001b[0m 265.7   \u001b[0m | \u001b[0m 10.15   \u001b[0m | \u001b[0m 60.27   \u001b[0m | \u001b[0m 38.94   \u001b[0m | \u001b[0m 42.25   \u001b[0m | \u001b[0m 28.43   \u001b[0m | \u001b[0m 0.1889  \u001b[0m | \u001b[0m 0.8088  \u001b[0m |\n",
      "Training until validation scores don't improve for 100 rounds\n",
      "[100]\ttraining's auc: 0.765749\ttraining's binary_logloss: 0.247324\tvalid_1's auc: 0.753702\tvalid_1's binary_logloss: 0.249617\n",
      "[200]\ttraining's auc: 0.781611\ttraining's binary_logloss: 0.240353\tvalid_1's auc: 0.764481\tvalid_1's binary_logloss: 0.244878\n",
      "[300]\ttraining's auc: 0.791576\ttraining's binary_logloss: 0.236528\tvalid_1's auc: 0.769669\tvalid_1's binary_logloss: 0.242979\n",
      "[400]\ttraining's auc: 0.799079\ttraining's binary_logloss: 0.233771\tvalid_1's auc: 0.772325\tvalid_1's binary_logloss: 0.242037\n",
      "[500]\ttraining's auc: 0.805611\ttraining's binary_logloss: 0.231415\tvalid_1's auc: 0.774198\tvalid_1's binary_logloss: 0.241404\n",
      "Did not meet early stopping. Best iteration is:\n",
      "[500]\ttraining's auc: 0.805611\ttraining's binary_logloss: 0.231415\tvalid_1's auc: 0.774198\tvalid_1's binary_logloss: 0.241404\n",
      "| \u001b[0m 5       \u001b[0m | \u001b[0m 0.7742  \u001b[0m | \u001b[0m 0.806   \u001b[0m | \u001b[0m 312.3   \u001b[0m | \u001b[0m 15.44   \u001b[0m | \u001b[0m 139.5   \u001b[0m | \u001b[0m 18.62   \u001b[0m | \u001b[0m 41.48   \u001b[0m | \u001b[0m 34.88   \u001b[0m | \u001b[0m 0.6032  \u001b[0m | \u001b[0m 0.8334  \u001b[0m |\n",
      "Training until validation scores don't improve for 100 rounds\n",
      "[100]\ttraining's auc: 0.778427\ttraining's binary_logloss: 0.243884\tvalid_1's auc: 0.759082\tvalid_1's binary_logloss: 0.248043\n",
      "[200]\ttraining's auc: 0.797433\ttraining's binary_logloss: 0.235086\tvalid_1's auc: 0.768748\tvalid_1's binary_logloss: 0.243259\n",
      "[300]\ttraining's auc: 0.812165\ttraining's binary_logloss: 0.229412\tvalid_1's auc: 0.773053\tvalid_1's binary_logloss: 0.241637\n",
      "[400]\ttraining's auc: 0.824595\ttraining's binary_logloss: 0.224677\tvalid_1's auc: 0.775812\tvalid_1's binary_logloss: 0.240641\n",
      "[500]\ttraining's auc: 0.835562\ttraining's binary_logloss: 0.220538\tvalid_1's auc: 0.77709\tvalid_1's binary_logloss: 0.24019\n",
      "Did not meet early stopping. Best iteration is:\n",
      "[500]\ttraining's auc: 0.835562\ttraining's binary_logloss: 0.220538\tvalid_1's auc: 0.77709\tvalid_1's binary_logloss: 0.24019\n",
      "| \u001b[0m 6       \u001b[0m | \u001b[0m 0.7771  \u001b[0m | \u001b[0m 0.6405  \u001b[0m | \u001b[0m 435.0   \u001b[0m | \u001b[0m 13.5    \u001b[0m | \u001b[0m 169.3   \u001b[0m | \u001b[0m 26.92   \u001b[0m | \u001b[0m 57.69   \u001b[0m | \u001b[0m 5.768   \u001b[0m | \u001b[0m 9.196   \u001b[0m | \u001b[0m 0.613   \u001b[0m |\n",
      "Training until validation scores don't improve for 100 rounds\n",
      "[100]\ttraining's auc: 0.770936\ttraining's binary_logloss: 0.245747\tvalid_1's auc: 0.754255\tvalid_1's binary_logloss: 0.249181\n",
      "[200]\ttraining's auc: 0.789177\ttraining's binary_logloss: 0.237973\tvalid_1's auc: 0.765375\tvalid_1's binary_logloss: 0.244493\n",
      "[300]\ttraining's auc: 0.801493\ttraining's binary_logloss: 0.23329\tvalid_1's auc: 0.770826\tvalid_1's binary_logloss: 0.242627\n",
      "[400]\ttraining's auc: 0.811084\ttraining's binary_logloss: 0.229735\tvalid_1's auc: 0.773161\tvalid_1's binary_logloss: 0.241785\n",
      "[500]\ttraining's auc: 0.819414\ttraining's binary_logloss: 0.226643\tvalid_1's auc: 0.774718\tvalid_1's binary_logloss: 0.241235\n",
      "Did not meet early stopping. Best iteration is:\n",
      "[500]\ttraining's auc: 0.819414\ttraining's binary_logloss: 0.226643\tvalid_1's auc: 0.774718\tvalid_1's binary_logloss: 0.241235\n",
      "| \u001b[0m 7       \u001b[0m | \u001b[0m 0.7747  \u001b[0m | \u001b[0m 0.9401  \u001b[0m | \u001b[0m 487.1   \u001b[0m | \u001b[0m 12.76   \u001b[0m | \u001b[0m 183.4   \u001b[0m | \u001b[0m 4.711   \u001b[0m | \u001b[0m 60.64   \u001b[0m | \u001b[0m 31.72   \u001b[0m | \u001b[0m 9.266   \u001b[0m | \u001b[0m 0.7545  \u001b[0m |\n",
      "Training until validation scores don't improve for 100 rounds\n",
      "[100]\ttraining's auc: 0.777061\ttraining's binary_logloss: 0.243794\tvalid_1's auc: 0.758236\tvalid_1's binary_logloss: 0.248017\n",
      "[200]\ttraining's auc: 0.796891\ttraining's binary_logloss: 0.235158\tvalid_1's auc: 0.768517\tvalid_1's binary_logloss: 0.24334\n",
      "[300]\ttraining's auc: 0.811359\ttraining's binary_logloss: 0.229582\tvalid_1's auc: 0.773113\tvalid_1's binary_logloss: 0.241673\n"
     ]
    },
    {
     "name": "stdout",
     "output_type": "stream",
     "text": [
      "[400]\ttraining's auc: 0.823635\ttraining's binary_logloss: 0.224982\tvalid_1's auc: 0.776041\tvalid_1's binary_logloss: 0.240674\n",
      "[500]\ttraining's auc: 0.834198\ttraining's binary_logloss: 0.220963\tvalid_1's auc: 0.777433\tvalid_1's binary_logloss: 0.240155\n",
      "Did not meet early stopping. Best iteration is:\n",
      "[500]\ttraining's auc: 0.834198\ttraining's binary_logloss: 0.220963\tvalid_1's auc: 0.777433\tvalid_1's binary_logloss: 0.240155\n",
      "| \u001b[95m 8       \u001b[0m | \u001b[95m 0.7774  \u001b[0m | \u001b[95m 0.7787  \u001b[0m | \u001b[95m 404.8   \u001b[0m | \u001b[95m 12.9    \u001b[0m | \u001b[95m 173.8   \u001b[0m | \u001b[95m 13.14   \u001b[0m | \u001b[95m 56.73   \u001b[0m | \u001b[95m 9.862   \u001b[0m | \u001b[95m 1.674   \u001b[0m | \u001b[95m 0.8456  \u001b[0m |\n",
      "Training until validation scores don't improve for 100 rounds\n",
      "[100]\ttraining's auc: 0.762987\ttraining's binary_logloss: 0.24776\tvalid_1's auc: 0.754985\tvalid_1's binary_logloss: 0.249248\n",
      "[200]\ttraining's auc: 0.779423\ttraining's binary_logloss: 0.240788\tvalid_1's auc: 0.765806\tvalid_1's binary_logloss: 0.244295\n",
      "[300]\ttraining's auc: 0.790248\ttraining's binary_logloss: 0.236773\tvalid_1's auc: 0.771179\tvalid_1's binary_logloss: 0.242306\n",
      "[400]\ttraining's auc: 0.798377\ttraining's binary_logloss: 0.23385\tvalid_1's auc: 0.774033\tvalid_1's binary_logloss: 0.241295\n",
      "[500]\ttraining's auc: 0.805384\ttraining's binary_logloss: 0.231385\tvalid_1's auc: 0.775704\tvalid_1's binary_logloss: 0.240728\n",
      "Did not meet early stopping. Best iteration is:\n",
      "[500]\ttraining's auc: 0.805384\ttraining's binary_logloss: 0.231385\tvalid_1's auc: 0.775704\tvalid_1's binary_logloss: 0.240728\n",
      "| \u001b[0m 9       \u001b[0m | \u001b[0m 0.7757  \u001b[0m | \u001b[0m 0.5463  \u001b[0m | \u001b[0m 427.0   \u001b[0m | \u001b[0m 7.801   \u001b[0m | \u001b[0m 198.7   \u001b[0m | \u001b[0m 17.66   \u001b[0m | \u001b[0m 25.23   \u001b[0m | \u001b[0m 0.8159  \u001b[0m | \u001b[0m 0.02322 \u001b[0m | \u001b[0m 0.7696  \u001b[0m |\n",
      "Training until validation scores don't improve for 100 rounds\n",
      "[100]\ttraining's auc: 0.770044\ttraining's binary_logloss: 0.246666\tvalid_1's auc: 0.754766\tvalid_1's binary_logloss: 0.24953\n",
      "[200]\ttraining's auc: 0.786171\ttraining's binary_logloss: 0.239282\tvalid_1's auc: 0.765329\tvalid_1's binary_logloss: 0.244665\n",
      "[300]\ttraining's auc: 0.796472\ttraining's binary_logloss: 0.235211\tvalid_1's auc: 0.77062\tvalid_1's binary_logloss: 0.242717\n",
      "[400]\ttraining's auc: 0.804245\ttraining's binary_logloss: 0.232233\tvalid_1's auc: 0.77331\tvalid_1's binary_logloss: 0.241739\n",
      "[500]\ttraining's auc: 0.810801\ttraining's binary_logloss: 0.229783\tvalid_1's auc: 0.774851\tvalid_1's binary_logloss: 0.241185\n",
      "Did not meet early stopping. Best iteration is:\n",
      "[500]\ttraining's auc: 0.810801\ttraining's binary_logloss: 0.229783\tvalid_1's auc: 0.774851\tvalid_1's binary_logloss: 0.241185\n",
      "| \u001b[0m 10      \u001b[0m | \u001b[0m 0.7749  \u001b[0m | \u001b[0m 0.7827  \u001b[0m | \u001b[0m 413.0   \u001b[0m | \u001b[0m 8.384   \u001b[0m | \u001b[0m 147.3   \u001b[0m | \u001b[0m 3.612   \u001b[0m | \u001b[0m 61.47   \u001b[0m | \u001b[0m 39.48   \u001b[0m | \u001b[0m 8.613   \u001b[0m | \u001b[0m 0.7416  \u001b[0m |\n",
      "Training until validation scores don't improve for 100 rounds\n",
      "[100]\ttraining's auc: 0.770704\ttraining's binary_logloss: 0.245427\tvalid_1's auc: 0.755347\tvalid_1's binary_logloss: 0.248721\n",
      "[200]\ttraining's auc: 0.789427\ttraining's binary_logloss: 0.237621\tvalid_1's auc: 0.766595\tvalid_1's binary_logloss: 0.244013\n",
      "[300]\ttraining's auc: 0.801794\ttraining's binary_logloss: 0.23288\tvalid_1's auc: 0.771645\tvalid_1's binary_logloss: 0.242203\n",
      "[400]\ttraining's auc: 0.811677\ttraining's binary_logloss: 0.22925\tvalid_1's auc: 0.774024\tvalid_1's binary_logloss: 0.241364\n",
      "[500]\ttraining's auc: 0.820551\ttraining's binary_logloss: 0.22595\tvalid_1's auc: 0.775849\tvalid_1's binary_logloss: 0.240732\n",
      "Did not meet early stopping. Best iteration is:\n",
      "[500]\ttraining's auc: 0.820551\ttraining's binary_logloss: 0.22595\tvalid_1's auc: 0.775849\tvalid_1's binary_logloss: 0.240732\n",
      "| \u001b[0m 11      \u001b[0m | \u001b[0m 0.7758  \u001b[0m | \u001b[0m 0.9059  \u001b[0m | \u001b[0m 406.6   \u001b[0m | \u001b[0m 13.48   \u001b[0m | \u001b[0m 179.3   \u001b[0m | \u001b[0m 12.61   \u001b[0m | \u001b[0m 50.35   \u001b[0m | \u001b[0m 17.87   \u001b[0m | \u001b[0m 4.95    \u001b[0m | \u001b[0m 0.8961  \u001b[0m |\n",
      "Training until validation scores don't improve for 100 rounds\n",
      "[100]\ttraining's auc: 0.77909\ttraining's binary_logloss: 0.243658\tvalid_1's auc: 0.760251\tvalid_1's binary_logloss: 0.247864\n",
      "[200]\ttraining's auc: 0.798952\ttraining's binary_logloss: 0.234582\tvalid_1's auc: 0.769834\tvalid_1's binary_logloss: 0.242957\n",
      "[300]\ttraining's auc: 0.814444\ttraining's binary_logloss: 0.228627\tvalid_1's auc: 0.773805\tvalid_1's binary_logloss: 0.241336\n",
      "[400]\ttraining's auc: 0.827592\ttraining's binary_logloss: 0.223713\tvalid_1's auc: 0.776287\tvalid_1's binary_logloss: 0.240452\n",
      "[500]\ttraining's auc: 0.839016\ttraining's binary_logloss: 0.219467\tvalid_1's auc: 0.777544\tvalid_1's binary_logloss: 0.239992\n",
      "Did not meet early stopping. Best iteration is:\n",
      "[500]\ttraining's auc: 0.839016\ttraining's binary_logloss: 0.219467\tvalid_1's auc: 0.777544\tvalid_1's binary_logloss: 0.239992\n",
      "| \u001b[95m 12      \u001b[0m | \u001b[95m 0.7775  \u001b[0m | \u001b[95m 0.5053  \u001b[0m | \u001b[95m 415.8   \u001b[0m | \u001b[95m 14.28   \u001b[0m | \u001b[95m 173.3   \u001b[0m | \u001b[95m 14.82   \u001b[0m | \u001b[95m 54.13   \u001b[0m | \u001b[95m 1.876   \u001b[0m | \u001b[95m 3.377   \u001b[0m | \u001b[95m 0.9288  \u001b[0m |\n",
      "Training until validation scores don't improve for 100 rounds\n",
      "[100]\ttraining's auc: 0.780875\ttraining's binary_logloss: 0.242046\tvalid_1's auc: 0.758408\tvalid_1's binary_logloss: 0.24743\n",
      "[200]\ttraining's auc: 0.80516\ttraining's binary_logloss: 0.232158\tvalid_1's auc: 0.769859\tvalid_1's binary_logloss: 0.242772\n",
      "[300]\ttraining's auc: 0.823396\ttraining's binary_logloss: 0.225326\tvalid_1's auc: 0.774135\tvalid_1's binary_logloss: 0.241261\n",
      "[400]\ttraining's auc: 0.838228\ttraining's binary_logloss: 0.219677\tvalid_1's auc: 0.77665\tvalid_1's binary_logloss: 0.240422\n",
      "[500]\ttraining's auc: 0.850771\ttraining's binary_logloss: 0.214855\tvalid_1's auc: 0.777379\tvalid_1's binary_logloss: 0.240156\n",
      "Did not meet early stopping. Best iteration is:\n",
      "[500]\ttraining's auc: 0.850771\ttraining's binary_logloss: 0.214855\tvalid_1's auc: 0.777379\tvalid_1's binary_logloss: 0.240156\n",
      "| \u001b[0m 13      \u001b[0m | \u001b[0m 0.7774  \u001b[0m | \u001b[0m 0.9517  \u001b[0m | \u001b[0m 404.2   \u001b[0m | \u001b[0m 13.15   \u001b[0m | \u001b[0m 169.7   \u001b[0m | \u001b[0m 11.36   \u001b[0m | \u001b[0m 60.67   \u001b[0m | \u001b[0m 2.685   \u001b[0m | \u001b[0m 1.096   \u001b[0m | \u001b[0m 0.5336  \u001b[0m |\n",
      "Training until validation scores don't improve for 100 rounds\n",
      "[100]\ttraining's auc: 0.781117\ttraining's binary_logloss: 0.243544\tvalid_1's auc: 0.760382\tvalid_1's binary_logloss: 0.247908\n",
      "[200]\ttraining's auc: 0.800398\ttraining's binary_logloss: 0.234284\tvalid_1's auc: 0.769678\tvalid_1's binary_logloss: 0.242981\n",
      "[300]\ttraining's auc: 0.815593\ttraining's binary_logloss: 0.22831\tvalid_1's auc: 0.773845\tvalid_1's binary_logloss: 0.241331\n",
      "[400]\ttraining's auc: 0.828556\ttraining's binary_logloss: 0.223341\tvalid_1's auc: 0.775867\tvalid_1's binary_logloss: 0.240557\n",
      "[500]\ttraining's auc: 0.840094\ttraining's binary_logloss: 0.218888\tvalid_1's auc: 0.777157\tvalid_1's binary_logloss: 0.240071\n",
      "Did not meet early stopping. Best iteration is:\n",
      "[500]\ttraining's auc: 0.840094\ttraining's binary_logloss: 0.218888\tvalid_1's auc: 0.777157\tvalid_1's binary_logloss: 0.240071\n",
      "| \u001b[0m 14      \u001b[0m | \u001b[0m 0.7772  \u001b[0m | \u001b[0m 0.519   \u001b[0m | \u001b[0m 408.1   \u001b[0m | \u001b[0m 12.83   \u001b[0m | \u001b[0m 166.8   \u001b[0m | \u001b[0m 44.5    \u001b[0m | \u001b[0m 63.51   \u001b[0m | \u001b[0m 3.766   \u001b[0m | \u001b[0m 9.448   \u001b[0m | \u001b[0m 0.8037  \u001b[0m |\n",
      "Training until validation scores don't improve for 100 rounds\n",
      "[100]\ttraining's auc: 0.770537\ttraining's binary_logloss: 0.24573\tvalid_1's auc: 0.7549\tvalid_1's binary_logloss: 0.248801\n",
      "[200]\ttraining's auc: 0.788462\ttraining's binary_logloss: 0.238355\tvalid_1's auc: 0.765987\tvalid_1's binary_logloss: 0.244233\n",
      "[300]\ttraining's auc: 0.799078\ttraining's binary_logloss: 0.234152\tvalid_1's auc: 0.770789\tvalid_1's binary_logloss: 0.24243\n",
      "[400]\ttraining's auc: 0.807023\ttraining's binary_logloss: 0.231094\tvalid_1's auc: 0.773273\tvalid_1's binary_logloss: 0.241536\n",
      "[500]\ttraining's auc: 0.813939\ttraining's binary_logloss: 0.22846\tvalid_1's auc: 0.774784\tvalid_1's binary_logloss: 0.241009\n",
      "Did not meet early stopping. Best iteration is:\n",
      "[500]\ttraining's auc: 0.813939\ttraining's binary_logloss: 0.22846\tvalid_1's auc: 0.774784\tvalid_1's binary_logloss: 0.241009\n",
      "| \u001b[0m 15      \u001b[0m | \u001b[0m 0.7748  \u001b[0m | \u001b[0m 0.9907  \u001b[0m | \u001b[0m 404.3   \u001b[0m | \u001b[0m 6.113   \u001b[0m | \u001b[0m 176.8   \u001b[0m | \u001b[0m 12.76   \u001b[0m | \u001b[0m 55.42   \u001b[0m | \u001b[0m 12.21   \u001b[0m | \u001b[0m 2.73    \u001b[0m | \u001b[0m 0.6065  \u001b[0m |\n"
     ]
    },
    {
     "name": "stdout",
     "output_type": "stream",
     "text": [
      "Training until validation scores don't improve for 100 rounds\n",
      "[100]\ttraining's auc: 0.771951\ttraining's binary_logloss: 0.245262\tvalid_1's auc: 0.756994\tvalid_1's binary_logloss: 0.248384\n",
      "[200]\ttraining's auc: 0.789944\ttraining's binary_logloss: 0.237519\tvalid_1's auc: 0.767184\tvalid_1's binary_logloss: 0.243809\n",
      "[300]\ttraining's auc: 0.802449\ttraining's binary_logloss: 0.232762\tvalid_1's auc: 0.771675\tvalid_1's binary_logloss: 0.242139\n",
      "[400]\ttraining's auc: 0.812527\ttraining's binary_logloss: 0.229033\tvalid_1's auc: 0.773844\tvalid_1's binary_logloss: 0.241347\n",
      "[500]\ttraining's auc: 0.821566\ttraining's binary_logloss: 0.225702\tvalid_1's auc: 0.775231\tvalid_1's binary_logloss: 0.240862\n",
      "Did not meet early stopping. Best iteration is:\n",
      "[500]\ttraining's auc: 0.821566\ttraining's binary_logloss: 0.225702\tvalid_1's auc: 0.775231\tvalid_1's binary_logloss: 0.240862\n",
      "| \u001b[0m 16      \u001b[0m | \u001b[0m 0.7752  \u001b[0m | \u001b[0m 0.7405  \u001b[0m | \u001b[0m 120.1   \u001b[0m | \u001b[0m 12.18   \u001b[0m | \u001b[0m 53.76   \u001b[0m | \u001b[0m 42.68   \u001b[0m | \u001b[0m 47.66   \u001b[0m | \u001b[0m 10.66   \u001b[0m | \u001b[0m 1.986   \u001b[0m | \u001b[0m 0.8184  \u001b[0m |\n",
      "Training until validation scores don't improve for 100 rounds\n",
      "[100]\ttraining's auc: 0.772715\ttraining's binary_logloss: 0.246208\tvalid_1's auc: 0.756327\tvalid_1's binary_logloss: 0.249285\n",
      "[200]\ttraining's auc: 0.788675\ttraining's binary_logloss: 0.238528\tvalid_1's auc: 0.765812\tvalid_1's binary_logloss: 0.244489\n",
      "[300]\ttraining's auc: 0.799838\ttraining's binary_logloss: 0.234091\tvalid_1's auc: 0.770662\tvalid_1's binary_logloss: 0.242648\n",
      "[400]\ttraining's auc: 0.808826\ttraining's binary_logloss: 0.230678\tvalid_1's auc: 0.773271\tvalid_1's binary_logloss: 0.241698\n",
      "[500]\ttraining's auc: 0.816702\ttraining's binary_logloss: 0.227771\tvalid_1's auc: 0.774856\tvalid_1's binary_logloss: 0.241124\n",
      "Did not meet early stopping. Best iteration is:\n",
      "[500]\ttraining's auc: 0.816702\ttraining's binary_logloss: 0.227771\tvalid_1's auc: 0.774856\tvalid_1's binary_logloss: 0.241124\n",
      "| \u001b[0m 17      \u001b[0m | \u001b[0m 0.7749  \u001b[0m | \u001b[0m 0.5286  \u001b[0m | \u001b[0m 456.4   \u001b[0m | \u001b[0m 13.47   \u001b[0m | \u001b[0m 96.72   \u001b[0m | \u001b[0m 41.56   \u001b[0m | \u001b[0m 61.51   \u001b[0m | \u001b[0m 29.92   \u001b[0m | \u001b[0m 3.57    \u001b[0m | \u001b[0m 0.8466  \u001b[0m |\n",
      "Training until validation scores don't improve for 100 rounds\n",
      "[100]\ttraining's auc: 0.776763\ttraining's binary_logloss: 0.243561\tvalid_1's auc: 0.757973\tvalid_1's binary_logloss: 0.247873\n",
      "[200]\ttraining's auc: 0.797391\ttraining's binary_logloss: 0.234754\tvalid_1's auc: 0.768689\tvalid_1's binary_logloss: 0.243184\n",
      "[300]\ttraining's auc: 0.812586\ttraining's binary_logloss: 0.228999\tvalid_1's auc: 0.772999\tvalid_1's binary_logloss: 0.241611\n",
      "[400]\ttraining's auc: 0.825442\ttraining's binary_logloss: 0.22417\tvalid_1's auc: 0.775635\tvalid_1's binary_logloss: 0.240718\n",
      "[500]\ttraining's auc: 0.836514\ttraining's binary_logloss: 0.220032\tvalid_1's auc: 0.776816\tvalid_1's binary_logloss: 0.240284\n",
      "Did not meet early stopping. Best iteration is:\n",
      "[500]\ttraining's auc: 0.836514\ttraining's binary_logloss: 0.220032\tvalid_1's auc: 0.776816\tvalid_1's binary_logloss: 0.240284\n",
      "| \u001b[0m 18      \u001b[0m | \u001b[0m 0.7768  \u001b[0m | \u001b[0m 0.8303  \u001b[0m | \u001b[0m 403.8   \u001b[0m | \u001b[0m 14.02   \u001b[0m | \u001b[0m 169.3   \u001b[0m | \u001b[0m 18.68   \u001b[0m | \u001b[0m 54.06   \u001b[0m | \u001b[0m 6.417   \u001b[0m | \u001b[0m 0.8149  \u001b[0m | \u001b[0m 0.6575  \u001b[0m |\n",
      "Training until validation scores don't improve for 100 rounds\n",
      "[100]\ttraining's auc: 0.764181\ttraining's binary_logloss: 0.247598\tvalid_1's auc: 0.752248\tvalid_1's binary_logloss: 0.249855\n",
      "[200]\ttraining's auc: 0.78053\ttraining's binary_logloss: 0.240689\tvalid_1's auc: 0.763778\tvalid_1's binary_logloss: 0.245084\n",
      "[300]\ttraining's auc: 0.790445\ttraining's binary_logloss: 0.236937\tvalid_1's auc: 0.769005\tvalid_1's binary_logloss: 0.243203\n",
      "[400]\ttraining's auc: 0.797899\ttraining's binary_logloss: 0.234232\tvalid_1's auc: 0.77172\tvalid_1's binary_logloss: 0.24223\n",
      "[500]\ttraining's auc: 0.804164\ttraining's binary_logloss: 0.23194\tvalid_1's auc: 0.77368\tvalid_1's binary_logloss: 0.241575\n",
      "Did not meet early stopping. Best iteration is:\n",
      "[500]\ttraining's auc: 0.804164\ttraining's binary_logloss: 0.23194\tvalid_1's auc: 0.77368\tvalid_1's binary_logloss: 0.241575\n",
      "| \u001b[0m 19      \u001b[0m | \u001b[0m 0.7737  \u001b[0m | \u001b[0m 0.9644  \u001b[0m | \u001b[0m 330.1   \u001b[0m | \u001b[0m 10.67   \u001b[0m | \u001b[0m 22.2    \u001b[0m | \u001b[0m 30.45   \u001b[0m | \u001b[0m 42.41   \u001b[0m | \u001b[0m 41.12   \u001b[0m | \u001b[0m 7.102   \u001b[0m | \u001b[0m 0.755   \u001b[0m |\n",
      "Training until validation scores don't improve for 100 rounds\n",
      "[100]\ttraining's auc: 0.765056\ttraining's binary_logloss: 0.247907\tvalid_1's auc: 0.753735\tvalid_1's binary_logloss: 0.249849\n",
      "[200]\ttraining's auc: 0.77958\ttraining's binary_logloss: 0.241374\tvalid_1's auc: 0.764317\tvalid_1's binary_logloss: 0.245058\n",
      "[300]\ttraining's auc: 0.787781\ttraining's binary_logloss: 0.238056\tvalid_1's auc: 0.769085\tvalid_1's binary_logloss: 0.243188\n",
      "[400]\ttraining's auc: 0.793953\ttraining's binary_logloss: 0.235654\tvalid_1's auc: 0.771954\tvalid_1's binary_logloss: 0.242137\n",
      "[500]\ttraining's auc: 0.798917\ttraining's binary_logloss: 0.233777\tvalid_1's auc: 0.77372\tvalid_1's binary_logloss: 0.241486\n",
      "Did not meet early stopping. Best iteration is:\n",
      "[500]\ttraining's auc: 0.798917\ttraining's binary_logloss: 0.233777\tvalid_1's auc: 0.77372\tvalid_1's binary_logloss: 0.241486\n",
      "| \u001b[0m 20      \u001b[0m | \u001b[0m 0.7737  \u001b[0m | \u001b[0m 0.6988  \u001b[0m | \u001b[0m 466.8   \u001b[0m | \u001b[0m 6.224   \u001b[0m | \u001b[0m 141.3   \u001b[0m | \u001b[0m 6.811   \u001b[0m | \u001b[0m 46.3    \u001b[0m | \u001b[0m 34.41   \u001b[0m | \u001b[0m 0.2103  \u001b[0m | \u001b[0m 0.8806  \u001b[0m |\n",
      "Training until validation scores don't improve for 100 rounds\n",
      "[100]\ttraining's auc: 0.762875\ttraining's binary_logloss: 0.248427\tvalid_1's auc: 0.753176\tvalid_1's binary_logloss: 0.250037\n",
      "[200]\ttraining's auc: 0.777404\ttraining's binary_logloss: 0.241869\tvalid_1's auc: 0.763554\tvalid_1's binary_logloss: 0.245272\n",
      "[300]\ttraining's auc: 0.786769\ttraining's binary_logloss: 0.238303\tvalid_1's auc: 0.768857\tvalid_1's binary_logloss: 0.243307\n",
      "[400]\ttraining's auc: 0.793395\ttraining's binary_logloss: 0.235825\tvalid_1's auc: 0.77171\tvalid_1's binary_logloss: 0.24228\n",
      "[500]\ttraining's auc: 0.799192\ttraining's binary_logloss: 0.233734\tvalid_1's auc: 0.773832\tvalid_1's binary_logloss: 0.241556\n",
      "Did not meet early stopping. Best iteration is:\n",
      "[500]\ttraining's auc: 0.799192\ttraining's binary_logloss: 0.233734\tvalid_1's auc: 0.773832\tvalid_1's binary_logloss: 0.241556\n",
      "| \u001b[0m 21      \u001b[0m | \u001b[0m 0.7738  \u001b[0m | \u001b[0m 0.6587  \u001b[0m | \u001b[0m 250.5   \u001b[0m | \u001b[0m 9.987   \u001b[0m | \u001b[0m 100.8   \u001b[0m | \u001b[0m 48.75   \u001b[0m | \u001b[0m 36.58   \u001b[0m | \u001b[0m 41.15   \u001b[0m | \u001b[0m 9.618   \u001b[0m | \u001b[0m 0.6229  \u001b[0m |\n",
      "Training until validation scores don't improve for 100 rounds\n",
      "[100]\ttraining's auc: 0.762228\ttraining's binary_logloss: 0.247883\tvalid_1's auc: 0.752068\tvalid_1's binary_logloss: 0.249767\n",
      "[200]\ttraining's auc: 0.778889\ttraining's binary_logloss: 0.241099\tvalid_1's auc: 0.763657\tvalid_1's binary_logloss: 0.245049\n",
      "[300]\ttraining's auc: 0.788754\ttraining's binary_logloss: 0.237423\tvalid_1's auc: 0.768807\tvalid_1's binary_logloss: 0.243186\n",
      "[400]\ttraining's auc: 0.795902\ttraining's binary_logloss: 0.234802\tvalid_1's auc: 0.77158\tvalid_1's binary_logloss: 0.242209\n",
      "[500]\ttraining's auc: 0.802085\ttraining's binary_logloss: 0.232599\tvalid_1's auc: 0.773378\tvalid_1's binary_logloss: 0.241577\n",
      "Did not meet early stopping. Best iteration is:\n",
      "[500]\ttraining's auc: 0.802085\ttraining's binary_logloss: 0.232599\tvalid_1's auc: 0.773378\tvalid_1's binary_logloss: 0.241577\n",
      "| \u001b[0m 22      \u001b[0m | \u001b[0m 0.7734  \u001b[0m | \u001b[0m 0.9983  \u001b[0m | \u001b[0m 254.0   \u001b[0m | \u001b[0m 15.65   \u001b[0m | \u001b[0m 172.3   \u001b[0m | \u001b[0m 4.75    \u001b[0m | \u001b[0m 36.0    \u001b[0m | \u001b[0m 34.22   \u001b[0m | \u001b[0m 8.13    \u001b[0m | \u001b[0m 0.8197  \u001b[0m |\n",
      "Training until validation scores don't improve for 100 rounds\n",
      "[100]\ttraining's auc: 0.761452\ttraining's binary_logloss: 0.248379\tvalid_1's auc: 0.751467\tvalid_1's binary_logloss: 0.25015\n",
      "[200]\ttraining's auc: 0.777035\ttraining's binary_logloss: 0.241808\tvalid_1's auc: 0.762495\tvalid_1's binary_logloss: 0.245507\n",
      "[300]\ttraining's auc: 0.786657\ttraining's binary_logloss: 0.238241\tvalid_1's auc: 0.767951\tvalid_1's binary_logloss: 0.243573\n",
      "[400]\ttraining's auc: 0.793595\ttraining's binary_logloss: 0.235732\tvalid_1's auc: 0.770928\tvalid_1's binary_logloss: 0.242542\n",
      "[500]\ttraining's auc: 0.799229\ttraining's binary_logloss: 0.233725\tvalid_1's auc: 0.772755\tvalid_1's binary_logloss: 0.241924\n",
      "Did not meet early stopping. Best iteration is:\n",
      "[500]\ttraining's auc: 0.799229\ttraining's binary_logloss: 0.233725\tvalid_1's auc: 0.772755\tvalid_1's binary_logloss: 0.241924\n"
     ]
    },
    {
     "name": "stdout",
     "output_type": "stream",
     "text": [
      "| \u001b[0m 23      \u001b[0m | \u001b[0m 0.7728  \u001b[0m | \u001b[0m 0.9707  \u001b[0m | \u001b[0m 151.7   \u001b[0m | \u001b[0m 13.38   \u001b[0m | \u001b[0m 46.18   \u001b[0m | \u001b[0m 37.89   \u001b[0m | \u001b[0m 38.31   \u001b[0m | \u001b[0m 47.9    \u001b[0m | \u001b[0m 5.181   \u001b[0m | \u001b[0m 0.5227  \u001b[0m |\n",
      "Training until validation scores don't improve for 100 rounds\n",
      "[100]\ttraining's auc: 0.779811\ttraining's binary_logloss: 0.243332\tvalid_1's auc: 0.760109\tvalid_1's binary_logloss: 0.247736\n",
      "[200]\ttraining's auc: 0.799959\ttraining's binary_logloss: 0.234214\tvalid_1's auc: 0.7696\tvalid_1's binary_logloss: 0.24294\n",
      "[300]\ttraining's auc: 0.815734\ttraining's binary_logloss: 0.228215\tvalid_1's auc: 0.77385\tvalid_1's binary_logloss: 0.241373\n",
      "[400]\ttraining's auc: 0.828925\ttraining's binary_logloss: 0.223232\tvalid_1's auc: 0.776318\tvalid_1's binary_logloss: 0.240514\n",
      "[500]\ttraining's auc: 0.840318\ttraining's binary_logloss: 0.218927\tvalid_1's auc: 0.777752\tvalid_1's binary_logloss: 0.240012\n",
      "Did not meet early stopping. Best iteration is:\n",
      "[500]\ttraining's auc: 0.840318\ttraining's binary_logloss: 0.218927\tvalid_1's auc: 0.777752\tvalid_1's binary_logloss: 0.240012\n",
      "| \u001b[95m 24      \u001b[0m | \u001b[95m 0.7778  \u001b[0m | \u001b[95m 0.6132  \u001b[0m | \u001b[95m 407.8   \u001b[0m | \u001b[95m 11.42   \u001b[0m | \u001b[95m 165.8   \u001b[0m | \u001b[95m 6.594   \u001b[0m | \u001b[95m 58.1    \u001b[0m | \u001b[95m 3.564   \u001b[0m | \u001b[95m 4.931   \u001b[0m | \u001b[95m 0.7086  \u001b[0m |\n",
      "Training until validation scores don't improve for 100 rounds\n",
      "[100]\ttraining's auc: 0.774534\ttraining's binary_logloss: 0.244625\tvalid_1's auc: 0.756224\tvalid_1's binary_logloss: 0.248617\n",
      "[200]\ttraining's auc: 0.793715\ttraining's binary_logloss: 0.236347\tvalid_1's auc: 0.766952\tvalid_1's binary_logloss: 0.243964\n",
      "[300]\ttraining's auc: 0.806891\ttraining's binary_logloss: 0.231208\tvalid_1's auc: 0.771839\tvalid_1's binary_logloss: 0.242176\n",
      "[400]\ttraining's auc: 0.817913\ttraining's binary_logloss: 0.227106\tvalid_1's auc: 0.77424\tvalid_1's binary_logloss: 0.241315\n",
      "[500]\ttraining's auc: 0.827668\ttraining's binary_logloss: 0.223393\tvalid_1's auc: 0.775944\tvalid_1's binary_logloss: 0.240733\n",
      "Did not meet early stopping. Best iteration is:\n",
      "[500]\ttraining's auc: 0.827668\ttraining's binary_logloss: 0.223393\tvalid_1's auc: 0.775944\tvalid_1's binary_logloss: 0.240733\n",
      "| \u001b[0m 25      \u001b[0m | \u001b[0m 0.7759  \u001b[0m | \u001b[0m 0.8647  \u001b[0m | \u001b[0m 423.6   \u001b[0m | \u001b[0m 14.84   \u001b[0m | \u001b[0m 165.2   \u001b[0m | \u001b[0m 12.8    \u001b[0m | \u001b[0m 62.03   \u001b[0m | \u001b[0m 18.55   \u001b[0m | \u001b[0m 7.689   \u001b[0m | \u001b[0m 0.8948  \u001b[0m |\n",
      "Training until validation scores don't improve for 100 rounds\n",
      "[100]\ttraining's auc: 0.777328\ttraining's binary_logloss: 0.243203\tvalid_1's auc: 0.757015\tvalid_1's binary_logloss: 0.247902\n",
      "[200]\ttraining's auc: 0.79932\ttraining's binary_logloss: 0.234117\tvalid_1's auc: 0.768682\tvalid_1's binary_logloss: 0.243223\n",
      "[300]\ttraining's auc: 0.81478\ttraining's binary_logloss: 0.228172\tvalid_1's auc: 0.773081\tvalid_1's binary_logloss: 0.241657\n",
      "[400]\ttraining's auc: 0.828011\ttraining's binary_logloss: 0.223201\tvalid_1's auc: 0.775478\tvalid_1's binary_logloss: 0.240821\n",
      "[500]\ttraining's auc: 0.8397\ttraining's binary_logloss: 0.218802\tvalid_1's auc: 0.776926\tvalid_1's binary_logloss: 0.240304\n",
      "Did not meet early stopping. Best iteration is:\n",
      "[500]\ttraining's auc: 0.8397\ttraining's binary_logloss: 0.218802\tvalid_1's auc: 0.776926\tvalid_1's binary_logloss: 0.240304\n",
      "| \u001b[0m 26      \u001b[0m | \u001b[0m 0.7769  \u001b[0m | \u001b[0m 0.977   \u001b[0m | \u001b[0m 413.0   \u001b[0m | \u001b[0m 13.38   \u001b[0m | \u001b[0m 159.7   \u001b[0m | \u001b[0m 13.77   \u001b[0m | \u001b[0m 62.56   \u001b[0m | \u001b[0m 10.07   \u001b[0m | \u001b[0m 1.574   \u001b[0m | \u001b[0m 0.5797  \u001b[0m |\n",
      "Training until validation scores don't improve for 100 rounds\n",
      "[100]\ttraining's auc: 0.77707\ttraining's binary_logloss: 0.24397\tvalid_1's auc: 0.758227\tvalid_1's binary_logloss: 0.248097\n",
      "[200]\ttraining's auc: 0.796579\ttraining's binary_logloss: 0.235316\tvalid_1's auc: 0.768371\tvalid_1's binary_logloss: 0.24339\n",
      "[300]\ttraining's auc: 0.811104\ttraining's binary_logloss: 0.229736\tvalid_1's auc: 0.773153\tvalid_1's binary_logloss: 0.241649\n",
      "[400]\ttraining's auc: 0.823451\ttraining's binary_logloss: 0.225128\tvalid_1's auc: 0.776024\tvalid_1's binary_logloss: 0.240679\n",
      "[500]\ttraining's auc: 0.834162\ttraining's binary_logloss: 0.221078\tvalid_1's auc: 0.777726\tvalid_1's binary_logloss: 0.240042\n",
      "Did not meet early stopping. Best iteration is:\n",
      "[500]\ttraining's auc: 0.834162\ttraining's binary_logloss: 0.221078\tvalid_1's auc: 0.777726\tvalid_1's binary_logloss: 0.240042\n",
      "| \u001b[0m 27      \u001b[0m | \u001b[0m 0.7777  \u001b[0m | \u001b[0m 0.6684  \u001b[0m | \u001b[0m 410.6   \u001b[0m | \u001b[0m 14.33   \u001b[0m | \u001b[0m 160.3   \u001b[0m | \u001b[0m 12.48   \u001b[0m | \u001b[0m 57.55   \u001b[0m | \u001b[0m 9.388   \u001b[0m | \u001b[0m 3.716   \u001b[0m | \u001b[0m 0.8155  \u001b[0m |\n",
      "Training until validation scores don't improve for 100 rounds\n",
      "[100]\ttraining's auc: 0.779483\ttraining's binary_logloss: 0.243267\tvalid_1's auc: 0.760565\tvalid_1's binary_logloss: 0.247616\n",
      "[200]\ttraining's auc: 0.800601\ttraining's binary_logloss: 0.234026\tvalid_1's auc: 0.769934\tvalid_1's binary_logloss: 0.242896\n",
      "[300]\ttraining's auc: 0.817254\ttraining's binary_logloss: 0.227798\tvalid_1's auc: 0.774267\tvalid_1's binary_logloss: 0.241246\n",
      "[400]\ttraining's auc: 0.831477\ttraining's binary_logloss: 0.222547\tvalid_1's auc: 0.776661\tvalid_1's binary_logloss: 0.240371\n",
      "[500]\ttraining's auc: 0.843255\ttraining's binary_logloss: 0.218168\tvalid_1's auc: 0.777515\tvalid_1's binary_logloss: 0.240032\n",
      "Did not meet early stopping. Best iteration is:\n",
      "[500]\ttraining's auc: 0.843255\ttraining's binary_logloss: 0.218168\tvalid_1's auc: 0.777515\tvalid_1's binary_logloss: 0.240032\n",
      "| \u001b[0m 28      \u001b[0m | \u001b[0m 0.7775  \u001b[0m | \u001b[0m 0.5577  \u001b[0m | \u001b[0m 415.4   \u001b[0m | \u001b[0m 15.91   \u001b[0m | \u001b[0m 158.0   \u001b[0m | \u001b[0m 4.518   \u001b[0m | \u001b[0m 55.18   \u001b[0m | \u001b[0m 1.469   \u001b[0m | \u001b[0m 2.676   \u001b[0m | \u001b[0m 0.7971  \u001b[0m |\n",
      "Training until validation scores don't improve for 100 rounds\n",
      "[100]\ttraining's auc: 0.77629\ttraining's binary_logloss: 0.244822\tvalid_1's auc: 0.758419\tvalid_1's binary_logloss: 0.248544\n",
      "[200]\ttraining's auc: 0.793961\ttraining's binary_logloss: 0.236441\tvalid_1's auc: 0.767931\tvalid_1's binary_logloss: 0.243644\n",
      "[300]\ttraining's auc: 0.807111\ttraining's binary_logloss: 0.231275\tvalid_1's auc: 0.772477\tvalid_1's binary_logloss: 0.241895\n",
      "[400]\ttraining's auc: 0.818119\ttraining's binary_logloss: 0.227129\tvalid_1's auc: 0.774883\tvalid_1's binary_logloss: 0.241021\n",
      "[500]\ttraining's auc: 0.828216\ttraining's binary_logloss: 0.223362\tvalid_1's auc: 0.776623\tvalid_1's binary_logloss: 0.24039\n",
      "Did not meet early stopping. Best iteration is:\n",
      "[500]\ttraining's auc: 0.828216\ttraining's binary_logloss: 0.223362\tvalid_1's auc: 0.776623\tvalid_1's binary_logloss: 0.24039\n",
      "| \u001b[0m 29      \u001b[0m | \u001b[0m 0.7766  \u001b[0m | \u001b[0m 0.5291  \u001b[0m | \u001b[0m 398.6   \u001b[0m | \u001b[0m 15.84   \u001b[0m | \u001b[0m 154.7   \u001b[0m | \u001b[0m 4.616   \u001b[0m | \u001b[0m 57.05   \u001b[0m | \u001b[0m 11.49   \u001b[0m | \u001b[0m 7.304   \u001b[0m | \u001b[0m 0.6412  \u001b[0m |\n",
      "Training until validation scores don't improve for 100 rounds\n",
      "[100]\ttraining's auc: 0.776619\ttraining's binary_logloss: 0.244486\tvalid_1's auc: 0.759462\tvalid_1's binary_logloss: 0.248056\n",
      "[200]\ttraining's auc: 0.795298\ttraining's binary_logloss: 0.235904\tvalid_1's auc: 0.769215\tvalid_1's binary_logloss: 0.243157\n",
      "[300]\ttraining's auc: 0.809109\ttraining's binary_logloss: 0.230492\tvalid_1's auc: 0.773665\tvalid_1's binary_logloss: 0.241433\n",
      "[400]\ttraining's auc: 0.8206\ttraining's binary_logloss: 0.226177\tvalid_1's auc: 0.775825\tvalid_1's binary_logloss: 0.240626\n",
      "[500]\ttraining's auc: 0.83089\ttraining's binary_logloss: 0.222292\tvalid_1's auc: 0.777436\tvalid_1's binary_logloss: 0.24004\n",
      "Did not meet early stopping. Best iteration is:\n",
      "[500]\ttraining's auc: 0.83089\ttraining's binary_logloss: 0.222292\tvalid_1's auc: 0.777436\tvalid_1's binary_logloss: 0.24004\n",
      "| \u001b[0m 30      \u001b[0m | \u001b[0m 0.7774  \u001b[0m | \u001b[0m 0.583   \u001b[0m | \u001b[0m 424.3   \u001b[0m | \u001b[0m 10.88   \u001b[0m | \u001b[0m 155.8   \u001b[0m | \u001b[0m 35.14   \u001b[0m | \u001b[0m 52.93   \u001b[0m | \u001b[0m 4.563   \u001b[0m | \u001b[0m 9.306   \u001b[0m | \u001b[0m 0.5227  \u001b[0m |\n",
      "=====================================================================================================================================\n"
     ]
    }
   ],
   "source": [
    "# BayesianOptimization객체를 수행할 함수와 search할 parameter 범위를 설정하여 생성. \n",
    "lgbBO = BayesianOptimization(lgb_roc_eval,bayesian_params , random_state=0)\n",
    "# 함수 반환값이 최대가 되는 입력값 유추를 위한 iteration 수행. \n",
    "lgbBO.maximize(init_points=5, n_iter=25)"
   ]
  },
  {
   "cell_type": "markdown",
   "metadata": {
    "colab_type": "text",
    "id": "2L3qCmiXvR5a"
   },
   "source": [
    "##### Iteration 수행 결과 출력"
   ]
  },
  {
   "cell_type": "code",
   "execution_count": 11,
   "metadata": {
    "colab": {},
    "colab_type": "code",
    "id": "DinJ-PaxvR5c"
   },
   "outputs": [
    {
     "data": {
      "text/plain": [
       "[{'target': 0.7757547568513029,\n",
       "  'params': {'colsample_bytree': 0.7744067519636624,\n",
       "   'max_bin': 360.44278952248555,\n",
       "   'max_depth': 12.027633760716439,\n",
       "   'min_child_samples': 113.52780476941041,\n",
       "   'min_child_weight': 21.75908516760633,\n",
       "   'num_leaves': 49.835764522666246,\n",
       "   'reg_alpha': 21.884984691022,\n",
       "   'reg_lambda': 8.917838234820016,\n",
       "   'subsample': 0.9818313802505146}},\n",
       " {'target': 0.7753573432834208,\n",
       "  'params': {'colsample_bytree': 0.6917207594128889,\n",
       "   'max_bin': 397.94526866050563,\n",
       "   'max_depth': 11.288949197529044,\n",
       "   'min_child_samples': 117.92846660784714,\n",
       "   'min_child_weight': 46.35423527634039,\n",
       "   'num_leaves': 26.841442327915477,\n",
       "   'reg_alpha': 4.36559369208002,\n",
       "   'reg_lambda': 0.20316375600581688,\n",
       "   'subsample': 0.916309922773969}},\n",
       " {'target': 0.7770939273187911,\n",
       "  'params': {'colsample_bytree': 0.8890783754749252,\n",
       "   'max_bin': 436.30595264094137,\n",
       "   'max_depth': 15.78618342232764,\n",
       "   'min_child_samples': 161.8401272011775,\n",
       "   'min_child_weight': 23.61248875039366,\n",
       "   'num_leaves': 55.22116705145822,\n",
       "   'reg_alpha': 5.922538549187972,\n",
       "   'reg_lambda': 6.3995702922539115,\n",
       "   'subsample': 0.5716766437045232}},\n",
       " {'target': 0.7749940765618106,\n",
       "  'params': {'colsample_bytree': 0.972334458524792,\n",
       "   'max_bin': 265.70567765753515,\n",
       "   'max_depth': 10.146619399905235,\n",
       "   'min_child_samples': 60.265566299879126,\n",
       "   'min_child_weight': 38.93745078227661,\n",
       "   'num_leaves': 42.24601328866194,\n",
       "   'reg_alpha': 28.426013103943742,\n",
       "   'reg_lambda': 0.18887921456311507,\n",
       "   'subsample': 0.8088177485379385}},\n",
       " {'target': 0.7741980660329925,\n",
       "  'params': {'colsample_bytree': 0.8060478613612108,\n",
       "   'max_bin': 312.2976584686309,\n",
       "   'max_depth': 15.437480785146242,\n",
       "   'min_child_samples': 139.54585682966186,\n",
       "   'min_child_weight': 18.615887128115514,\n",
       "   'num_leaves': 41.481278151973655,\n",
       "   'reg_alpha': 34.88458348440397,\n",
       "   'reg_lambda': 0.6031944908210691,\n",
       "   'subsample': 0.8333833577228338}},\n",
       " {'target': 0.7770902357678429,\n",
       "  'params': {'colsample_bytree': 0.640481830861817,\n",
       "   'max_bin': 435.0379450370509,\n",
       "   'max_depth': 13.497244758196743,\n",
       "   'min_child_samples': 169.30259380663517,\n",
       "   'min_child_weight': 26.924368410534857,\n",
       "   'num_leaves': 57.69153705029583,\n",
       "   'reg_alpha': 5.7675960060342195,\n",
       "   'reg_lambda': 9.196441703351635,\n",
       "   'subsample': 0.6129607288812317}},\n",
       " {'target': 0.7747183968106346,\n",
       "  'params': {'colsample_bytree': 0.940099737569432,\n",
       "   'max_bin': 487.12937334098393,\n",
       "   'max_depth': 12.75964202764597,\n",
       "   'min_child_samples': 183.36191723370186,\n",
       "   'min_child_weight': 4.710628629746381,\n",
       "   'num_leaves': 60.640657394378586,\n",
       "   'reg_alpha': 31.72488692757093,\n",
       "   'reg_lambda': 9.265729148814478,\n",
       "   'subsample': 0.7545473588765891}},\n",
       " {'target': 0.7774325461074992,\n",
       "  'params': {'colsample_bytree': 0.7787435904462284,\n",
       "   'max_bin': 404.7926577146806,\n",
       "   'max_depth': 12.895980624050676,\n",
       "   'min_child_samples': 173.81217304421733,\n",
       "   'min_child_weight': 13.143153795112994,\n",
       "   'num_leaves': 56.726029690701324,\n",
       "   'reg_alpha': 9.861625048649643,\n",
       "   'reg_lambda': 1.6739851453905252,\n",
       "   'subsample': 0.8456336164799048}},\n",
       " {'target': 0.7757041235130807,\n",
       "  'params': {'colsample_bytree': 0.5463145539408687,\n",
       "   'max_bin': 427.0461653759481,\n",
       "   'max_depth': 7.800593037858153,\n",
       "   'min_child_samples': 198.70957036093375,\n",
       "   'min_child_weight': 17.66274000425461,\n",
       "   'num_leaves': 25.22838768546426,\n",
       "   'reg_alpha': 0.8158521164757867,\n",
       "   'reg_lambda': 0.023222792651225063,\n",
       "   'subsample': 0.7695618938346305}},\n",
       " {'target': 0.774850531778636,\n",
       "  'params': {'colsample_bytree': 0.782650462371838,\n",
       "   'max_bin': 412.9756510040386,\n",
       "   'max_depth': 8.38357428512147,\n",
       "   'min_child_samples': 147.30927245980914,\n",
       "   'min_child_weight': 3.6119534308305976,\n",
       "   'num_leaves': 61.46717561561721,\n",
       "   'reg_alpha': 39.48392560608628,\n",
       "   'reg_lambda': 8.61318040361951,\n",
       "   'subsample': 0.741554910879842}},\n",
       " {'target': 0.7758487484402502,\n",
       "  'params': {'colsample_bytree': 0.9058546819916167,\n",
       "   'max_bin': 406.6403296161044,\n",
       "   'max_depth': 13.484372409445154,\n",
       "   'min_child_samples': 179.29273522419714,\n",
       "   'min_child_weight': 12.61499535308491,\n",
       "   'num_leaves': 50.35010097990515,\n",
       "   'reg_alpha': 17.869170116785554,\n",
       "   'reg_lambda': 4.9504018937430665,\n",
       "   'subsample': 0.8960940479213428}},\n",
       " {'target': 0.7775441789894035,\n",
       "  'params': {'colsample_bytree': 0.5053422801156844,\n",
       "   'max_bin': 415.7599122539792,\n",
       "   'max_depth': 14.280675319405542,\n",
       "   'min_child_samples': 173.30396119532506,\n",
       "   'min_child_weight': 14.822481601041163,\n",
       "   'num_leaves': 54.129410624131786,\n",
       "   'reg_alpha': 1.8761533482688952,\n",
       "   'reg_lambda': 3.376708317045844,\n",
       "   'subsample': 0.9287789856743024}},\n",
       " {'target': 0.7773790138534075,\n",
       "  'params': {'colsample_bytree': 0.9517481615795167,\n",
       "   'max_bin': 404.2477687077706,\n",
       "   'max_depth': 13.148965978396912,\n",
       "   'min_child_samples': 169.69849449576012,\n",
       "   'min_child_weight': 11.36388815948627,\n",
       "   'num_leaves': 60.66794952296474,\n",
       "   'reg_alpha': 2.6851476344067766,\n",
       "   'reg_lambda': 1.09593657785921,\n",
       "   'subsample': 0.5336474737485655}},\n",
       " {'target': 0.7771569696053818,\n",
       "  'params': {'colsample_bytree': 0.5190431129368644,\n",
       "   'max_bin': 408.1226984536284,\n",
       "   'max_depth': 12.834532210568845,\n",
       "   'min_child_samples': 166.81377658292487,\n",
       "   'min_child_weight': 44.50004800453972,\n",
       "   'num_leaves': 63.51210493779547,\n",
       "   'reg_alpha': 3.765531598594566,\n",
       "   'reg_lambda': 9.447940309501957,\n",
       "   'subsample': 0.8036819040266839}},\n",
       " {'target': 0.7747842458831657,\n",
       "  'params': {'colsample_bytree': 0.9906787096965664,\n",
       "   'max_bin': 404.2660044128649,\n",
       "   'max_depth': 6.113020578011152,\n",
       "   'min_child_samples': 176.80963122765579,\n",
       "   'min_child_weight': 12.755309613243737,\n",
       "   'num_leaves': 55.41705559220205,\n",
       "   'reg_alpha': 12.20972718523322,\n",
       "   'reg_lambda': 2.7302145158205398,\n",
       "   'subsample': 0.6065012922107478}},\n",
       " {'target': 0.7752306630425951,\n",
       "  'params': {'colsample_bytree': 0.7405498719224073,\n",
       "   'max_bin': 120.09126734365545,\n",
       "   'max_depth': 12.17715628919504,\n",
       "   'min_child_samples': 53.75607426089902,\n",
       "   'min_child_weight': 42.67674438905004,\n",
       "   'num_leaves': 47.65645884299404,\n",
       "   'reg_alpha': 10.657030784872696,\n",
       "   'reg_lambda': 1.9862443324975898,\n",
       "   'subsample': 0.8183674135844643}},\n",
       " {'target': 0.7748557768308011,\n",
       "  'params': {'colsample_bytree': 0.5285839690801153,\n",
       "   'max_bin': 456.3688492632358,\n",
       "   'max_depth': 13.466954424472686,\n",
       "   'min_child_samples': 96.71934046157652,\n",
       "   'min_child_weight': 41.56458449914903,\n",
       "   'num_leaves': 61.51356737319794,\n",
       "   'reg_alpha': 29.916479237807728,\n",
       "   'reg_lambda': 3.569830892060643,\n",
       "   'subsample': 0.8466234848633365}},\n",
       " {'target': 0.7768160285070841,\n",
       "  'params': {'colsample_bytree': 0.8302703125834376,\n",
       "   'max_bin': 403.8135756763682,\n",
       "   'max_depth': 14.020436717284664,\n",
       "   'min_child_samples': 169.2658524836153,\n",
       "   'min_child_weight': 18.68221121962088,\n",
       "   'num_leaves': 54.05958954088423,\n",
       "   'reg_alpha': 6.416505768757613,\n",
       "   'reg_lambda': 0.8148693813151985,\n",
       "   'subsample': 0.6575223679804237}},\n",
       " {'target': 0.7736797271679531,\n",
       "  'params': {'colsample_bytree': 0.9644030062523238,\n",
       "   'max_bin': 330.0928781095815,\n",
       "   'max_depth': 10.672045120791337,\n",
       "   'min_child_samples': 22.200684457930734,\n",
       "   'min_child_weight': 30.449321845606374,\n",
       "   'num_leaves': 42.41391927150943,\n",
       "   'reg_alpha': 41.1241425119106,\n",
       "   'reg_lambda': 7.101780863951866,\n",
       "   'subsample': 0.7549971229139905}},\n",
       " {'target': 0.7737201261418207,\n",
       "  'params': {'colsample_bytree': 0.6988204802600908,\n",
       "   'max_bin': 466.75424161263555,\n",
       "   'max_depth': 6.223722288295195,\n",
       "   'min_child_samples': 141.31468721621735,\n",
       "   'min_child_weight': 6.810699765361502,\n",
       "   'num_leaves': 46.30444012544474,\n",
       "   'reg_alpha': 34.40986192906314,\n",
       "   'reg_lambda': 0.21031728177246328,\n",
       "   'subsample': 0.8805600329766623}},\n",
       " {'target': 0.7738320084099121,\n",
       "  'params': {'colsample_bytree': 0.6587283396471605,\n",
       "   'max_bin': 250.5286386374607,\n",
       "   'max_depth': 9.98695285307774,\n",
       "   'min_child_samples': 100.81813684545703,\n",
       "   'min_child_weight': 48.75445679344283,\n",
       "   'num_leaves': 36.577758318770336,\n",
       "   'reg_alpha': 41.14778812699356,\n",
       "   'reg_lambda': 9.618286668999609,\n",
       "   'subsample': 0.6229366817412965}},\n",
       " {'target': 0.7733777125531062,\n",
       "  'params': {'colsample_bytree': 0.9982660890256111,\n",
       "   'max_bin': 254.03913543906165,\n",
       "   'max_depth': 15.650808276001275,\n",
       "   'min_child_samples': 172.25633471197003,\n",
       "   'min_child_weight': 4.749826121182029,\n",
       "   'num_leaves': 35.99850836024811,\n",
       "   'reg_alpha': 34.224816343148206,\n",
       "   'reg_lambda': 8.12950340865832,\n",
       "   'subsample': 0.8197334217464274}},\n",
       " {'target': 0.7727550063629774,\n",
       "  'params': {'colsample_bytree': 0.9707101482347569,\n",
       "   'max_bin': 151.73780030563316,\n",
       "   'max_depth': 13.37861083666721,\n",
       "   'min_child_samples': 46.182587729009526,\n",
       "   'min_child_weight': 37.888812663146865,\n",
       "   'num_leaves': 38.30708609406997,\n",
       "   'reg_alpha': 47.89761393961768,\n",
       "   'reg_lambda': 5.180723493699807,\n",
       "   'subsample': 0.5226788318286884}},\n",
       " {'target': 0.7777520542897274,\n",
       "  'params': {'colsample_bytree': 0.6131590897657071,\n",
       "   'max_bin': 407.7650537340172,\n",
       "   'max_depth': 11.419478442721257,\n",
       "   'min_child_samples': 165.78797021983277,\n",
       "   'min_child_weight': 6.593877304390199,\n",
       "   'num_leaves': 58.104643830373476,\n",
       "   'reg_alpha': 3.5641438594918236,\n",
       "   'reg_lambda': 4.930915680407147,\n",
       "   'subsample': 0.7085756758448756}},\n",
       " {'target': 0.7759442045773792,\n",
       "  'params': {'colsample_bytree': 0.8646660898132132,\n",
       "   'max_bin': 423.63551949686166,\n",
       "   'max_depth': 14.83640782773546,\n",
       "   'min_child_samples': 165.23807782858515,\n",
       "   'min_child_weight': 12.801791460205989,\n",
       "   'num_leaves': 62.030044184472615,\n",
       "   'reg_alpha': 18.549305126509903,\n",
       "   'reg_lambda': 7.688705180495937,\n",
       "   'subsample': 0.8947805337291619}},\n",
       " {'target': 0.7769259458661724,\n",
       "  'params': {'colsample_bytree': 0.9769675181035123,\n",
       "   'max_bin': 413.022169749965,\n",
       "   'max_depth': 13.379422330785074,\n",
       "   'min_child_samples': 159.66256136006106,\n",
       "   'min_child_weight': 13.767212826716188,\n",
       "   'num_leaves': 62.559301569511135,\n",
       "   'reg_alpha': 10.066404448124247,\n",
       "   'reg_lambda': 1.5738601370007284,\n",
       "   'subsample': 0.5797237973412529}},\n",
       " {'target': 0.7777261117724779,\n",
       "  'params': {'colsample_bytree': 0.6683699157547303,\n",
       "   'max_bin': 410.625497129532,\n",
       "   'max_depth': 14.33013172991093,\n",
       "   'min_child_samples': 160.29674051975292,\n",
       "   'min_child_weight': 12.4824316033783,\n",
       "   'num_leaves': 57.55012993848767,\n",
       "   'reg_alpha': 9.388168770835543,\n",
       "   'reg_lambda': 3.715934530528651,\n",
       "   'subsample': 0.8154523609619488}},\n",
       " {'target': 0.777515200949838,\n",
       "  'params': {'colsample_bytree': 0.5577470101163782,\n",
       "   'max_bin': 415.3651854834909,\n",
       "   'max_depth': 15.90629373267077,\n",
       "   'min_child_samples': 158.02713866096025,\n",
       "   'min_child_weight': 4.518495665349199,\n",
       "   'num_leaves': 55.184424030295844,\n",
       "   'reg_alpha': 1.4688469782481506,\n",
       "   'reg_lambda': 2.675578339267839,\n",
       "   'subsample': 0.7971132137606602}},\n",
       " {'target': 0.7766230353671882,\n",
       "  'params': {'colsample_bytree': 0.5290772009550837,\n",
       "   'max_bin': 398.59711618828374,\n",
       "   'max_depth': 15.839665648168342,\n",
       "   'min_child_samples': 154.71891507370518,\n",
       "   'min_child_weight': 4.61628478085322,\n",
       "   'num_leaves': 57.05316301167903,\n",
       "   'reg_alpha': 11.49445458566521,\n",
       "   'reg_lambda': 7.304019536425174,\n",
       "   'subsample': 0.6411864296928427}},\n",
       " {'target': 0.7774358469004727,\n",
       "  'params': {'colsample_bytree': 0.5830313193586945,\n",
       "   'max_bin': 424.2502834160674,\n",
       "   'max_depth': 10.88317378832774,\n",
       "   'min_child_samples': 155.8181897380255,\n",
       "   'min_child_weight': 35.135080558631266,\n",
       "   'num_leaves': 52.932817512167134,\n",
       "   'reg_alpha': 4.563213223403356,\n",
       "   'reg_lambda': 9.306436705844463,\n",
       "   'subsample': 0.5226710682823348}}]"
      ]
     },
     "execution_count": 11,
     "metadata": {},
     "output_type": "execute_result"
    }
   ],
   "source": [
    "# BayesianOptimization객체의 res는 iteration 수행 시마다 모든 함수 반환결과와 그때의 파라미터 결과값을 가지고 있음. \n",
    "lgbBO.res"
   ]
  },
  {
   "cell_type": "markdown",
   "metadata": {
    "colab_type": "text",
    "id": "7pF714uFvR5l"
   },
   "source": [
    "##### Iteration 결과 Dictionary에서 최대 target값을 가지는 index 추출하고 그때의 parameter 값을 추출.  "
   ]
  },
  {
   "cell_type": "code",
   "execution_count": 12,
   "metadata": {
    "colab": {},
    "colab_type": "code",
    "id": "aR-_KsyivR5o"
   },
   "outputs": [
    {
     "name": "stdout",
     "output_type": "stream",
     "text": [
      "[0.7757547568513029, 0.7753573432834208, 0.7770939273187911, 0.7749940765618106, 0.7741980660329925, 0.7770902357678429, 0.7747183968106346, 0.7774325461074992, 0.7757041235130807, 0.774850531778636, 0.7758487484402502, 0.7775441789894035, 0.7773790138534075, 0.7771569696053818, 0.7747842458831657, 0.7752306630425951, 0.7748557768308011, 0.7768160285070841, 0.7736797271679531, 0.7737201261418207, 0.7738320084099121, 0.7733777125531062, 0.7727550063629774, 0.7777520542897274, 0.7759442045773792, 0.7769259458661724, 0.7777261117724779, 0.777515200949838, 0.7766230353671882, 0.7774358469004727]\n",
      "maximum target index: 23\n"
     ]
    }
   ],
   "source": [
    "# dictionary에 있는 target값을 모두 추출\n",
    "target_list = []\n",
    "for result in lgbBO.res:\n",
    "    target = result['target']\n",
    "    target_list.append(target)\n",
    "print(target_list)\n",
    "# 가장 큰 target 값을 가지는 순번(index)를 추출\n",
    "print('maximum target index:', np.argmax(np.array(target_list)))"
   ]
  },
  {
   "cell_type": "code",
   "execution_count": 13,
   "metadata": {
    "colab": {},
    "colab_type": "code",
    "id": "zZLxoImyvR5x"
   },
   "outputs": [
    {
     "name": "stdout",
     "output_type": "stream",
     "text": [
      "{'target': 0.7777520542897274, 'params': {'colsample_bytree': 0.6131590897657071, 'max_bin': 407.7650537340172, 'max_depth': 11.419478442721257, 'min_child_samples': 165.78797021983277, 'min_child_weight': 6.593877304390199, 'num_leaves': 58.104643830373476, 'reg_alpha': 3.5641438594918236, 'reg_lambda': 4.930915680407147, 'subsample': 0.7085756758448756}}\n"
     ]
    }
   ],
   "source": [
    "# 가장 큰 target값을 가지는 index값을 기준으로 res에서 해당 parameter 추출. \n",
    "max_dict = lgbBO.res[np.argmax(np.array(target_list))]\n",
    "print(max_dict)"
   ]
  },
  {
   "cell_type": "markdown",
   "metadata": {
    "colab_type": "text",
    "id": "mQ0EHnuIvR53"
   },
   "source": [
    "##### 최적화된 하이퍼 파라미터를 기반으로 재 테스트 "
   ]
  },
  {
   "cell_type": "code",
   "execution_count": 14,
   "metadata": {
    "colab": {},
    "colab_type": "code",
    "id": "32l2G2bZvR54"
   },
   "outputs": [],
   "source": [
    "def train_apps_all(apps_all_train):\n",
    "    ftr_app = apps_all_train.drop(['SK_ID_CURR', 'TARGET'], axis=1)\n",
    "    target_app = apps_all_train['TARGET']\n",
    "\n",
    "    train_x, valid_x, train_y, valid_y = train_test_split(ftr_app, target_app, test_size=0.3, random_state=2020)\n",
    "    print('train shape:', train_x.shape, 'valid shape:', valid_x.shape)\n",
    "    clf = LGBMClassifier(\n",
    "                nthread=4,\n",
    "                n_estimators=1000,\n",
    "                learning_rate=0.02,\n",
    "                max_depth = 13,\n",
    "                num_leaves=57,\n",
    "                colsample_bytree=0.638,\n",
    "                subsample=0.682,\n",
    "                max_bin=435,\n",
    "                reg_alpha=0.936,\n",
    "                reg_lambda=4.533,\n",
    "                min_child_weight=25,\n",
    "                min_child_samples=166,\n",
    "                silent=-1,\n",
    "                verbose=-1,\n",
    "                )\n",
    "\n",
    "    clf.fit(train_x, train_y, eval_set=[(train_x, train_y), (valid_x, valid_y)], eval_metric= 'auc', verbose= 100, \n",
    "                early_stopping_rounds= 100)\n",
    "    \n",
    "    return clf"
   ]
  },
  {
   "cell_type": "code",
   "execution_count": 15,
   "metadata": {
    "colab": {},
    "colab_type": "code",
    "id": "XxqV8KpFvR5_"
   },
   "outputs": [
    {
     "name": "stdout",
     "output_type": "stream",
     "text": [
      "prev_agg shape: (338857, 41)\n",
      "apps_all before merge shape: (356255, 135)\n",
      "apps_all after merge with prev_agg shape: (356255, 176)\n",
      "train shape: (215257, 174) valid shape: (92254, 174)\n",
      "Training until validation scores don't improve for 100 rounds\n",
      "[100]\ttraining's auc: 0.780067\ttraining's binary_logloss: 0.242975\tvalid_1's auc: 0.7602\tvalid_1's binary_logloss: 0.247521\n",
      "[200]\ttraining's auc: 0.801214\ttraining's binary_logloss: 0.23367\tvalid_1's auc: 0.769846\tvalid_1's binary_logloss: 0.242825\n",
      "[300]\ttraining's auc: 0.817418\ttraining's binary_logloss: 0.227465\tvalid_1's auc: 0.774073\tvalid_1's binary_logloss: 0.241228\n",
      "[400]\ttraining's auc: 0.830922\ttraining's binary_logloss: 0.222303\tvalid_1's auc: 0.776593\tvalid_1's binary_logloss: 0.240337\n",
      "[500]\ttraining's auc: 0.842622\ttraining's binary_logloss: 0.217909\tvalid_1's auc: 0.77766\tvalid_1's binary_logloss: 0.239951\n",
      "[600]\ttraining's auc: 0.852658\ttraining's binary_logloss: 0.213994\tvalid_1's auc: 0.778456\tvalid_1's binary_logloss: 0.239669\n",
      "[700]\ttraining's auc: 0.861938\ttraining's binary_logloss: 0.210321\tvalid_1's auc: 0.778612\tvalid_1's binary_logloss: 0.239596\n",
      "[800]\ttraining's auc: 0.870638\ttraining's binary_logloss: 0.206697\tvalid_1's auc: 0.778774\tvalid_1's binary_logloss: 0.239518\n",
      "[900]\ttraining's auc: 0.878819\ttraining's binary_logloss: 0.203278\tvalid_1's auc: 0.778907\tvalid_1's binary_logloss: 0.239462\n",
      "[1000]\ttraining's auc: 0.886542\ttraining's binary_logloss: 0.199958\tvalid_1's auc: 0.778953\tvalid_1's binary_logloss: 0.23944\n",
      "Did not meet early stopping. Best iteration is:\n",
      "[1000]\ttraining's auc: 0.886542\ttraining's binary_logloss: 0.199958\tvalid_1's auc: 0.778953\tvalid_1's binary_logloss: 0.23944\n"
     ]
    }
   ],
   "source": [
    "apps_all = get_apps_all_with_prev_agg(apps, prev)\n",
    "apps_all = get_apps_all_encoded(apps_all)\n",
    "apps_all_train, apps_all_test = get_apps_all_train_test(apps_all)\n",
    "clf = train_apps_all(apps_all_train)"
   ]
  },
  {
   "cell_type": "code",
   "execution_count": 16,
   "metadata": {
    "colab": {},
    "colab_type": "code",
    "id": "gQrAcQ1QvR6I"
   },
   "outputs": [],
   "source": [
    "preds = clf.predict_proba(apps_all_test.drop('SK_ID_CURR', axis=1))[:, 1 ]\n",
    "apps_all_test['TARGET'] = preds\n",
    "apps_all_test[['SK_ID_CURR', 'TARGET']].to_csv('prev_baseline_tuning_01.csv', index=False)"
   ]
  },
  {
   "cell_type": "markdown",
   "metadata": {
    "colab": {},
    "colab_type": "code",
    "id": "l01RNW9nvR6y"
   },
   "source": [
    "##### cross validation 으로 hyper parameter 재 tuning"
   ]
  },
  {
   "cell_type": "code",
   "execution_count": 17,
   "metadata": {},
   "outputs": [],
   "source": [
    "bayesian_params = {\n",
    "    'max_depth': (6, 16), \n",
    "    'num_leaves': (24, 64), \n",
    "    'min_data_in_leaf': (10, 200), # min_child_samples\n",
    "    'min_child_weight':(1, 50),\n",
    "    'bagging_fraction':(0.5, 1.0), # subsample\n",
    "    'feature_fraction': (0.5, 1.0), # colsample_bytree\n",
    "    'max_bin':(10, 500),\n",
    "    'lambda_l2':(0.001, 10), # reg_lambda\n",
    "    'lambda_l1': (0.01, 50) # reg_alpha\n",
    "}"
   ]
  },
  {
   "cell_type": "code",
   "execution_count": 18,
   "metadata": {},
   "outputs": [],
   "source": [
    "import lightgbm as lgb\n",
    "\n",
    "train_data = lgb.Dataset(data=ftr_app, label=target_app, free_raw_data=False)\n",
    "def lgb_roc_eval_cv(max_depth, num_leaves, min_data_in_leaf, min_child_weight, bagging_fraction, \n",
    "                 feature_fraction,  max_bin, lambda_l2, lambda_l1):   \n",
    "    params = {\n",
    "        \"num_iterations\":500, \"learning_rate\":0.02,\n",
    "        'early_stopping_rounds':100, 'metric':'auc',\n",
    "        'max_depth': int(round(max_depth)), #  호출 시 실수형 값이 들어오므로 실수형 하이퍼 파라미터는 정수형으로 변경 \n",
    "        'num_leaves': int(round(num_leaves)), \n",
    "        'min_data_in_leaf': int(round(min_data_in_leaf)),\n",
    "        'min_child_weight': int(round(min_child_weight)),\n",
    "        'bagging_fraction': max(min(bagging_fraction, 1), 0), \n",
    "        'feature_fraction': max(min(feature_fraction, 1), 0),\n",
    "        'max_bin':  max(int(round(max_bin)),10),\n",
    "        'lambda_l2': max(lambda_l2,0),\n",
    "        'lambda_l1': max(lambda_l1, 0)\n",
    "    }\n",
    "    # 파이썬 lightgbm의 cv 메소드를 사용. \n",
    "    \n",
    "    cv_result = lgb.cv(params, train_data, nfold=3, seed=0,  verbose_eval =100,  early_stopping_rounds=50, metrics=['auc'])\n",
    "    return max(cv_result['auc-mean'])   "
   ]
  },
  {
   "cell_type": "code",
   "execution_count": 19,
   "metadata": {},
   "outputs": [
    {
     "name": "stdout",
     "output_type": "stream",
     "text": [
      "{'target': 0.7777520542897274, 'params': {'colsample_bytree': 0.6131590897657071, 'max_bin': 407.7650537340172, 'max_depth': 11.419478442721257, 'min_child_samples': 165.78797021983277, 'min_child_weight': 6.593877304390199, 'num_leaves': 58.104643830373476, 'reg_alpha': 3.5641438594918236, 'reg_lambda': 4.930915680407147, 'subsample': 0.7085756758448756}}\n"
     ]
    }
   ],
   "source": [
    "max_dict = lgbBO.res[np.argmax(np.array(target_list))]\n",
    "print(max_dict)"
   ]
  },
  {
   "cell_type": "code",
   "execution_count": 20,
   "metadata": {},
   "outputs": [],
   "source": [
    "def train_apps_all(apps_all_train):\n",
    "    ftr_app = apps_all_train.drop(['SK_ID_CURR', 'TARGET'], axis=1)\n",
    "    target_app = apps_all_train['TARGET']\n",
    "\n",
    "    train_x, valid_x, train_y, valid_y = train_test_split(ftr_app, target_app, test_size=0.3, random_state=2020)\n",
    "    print('train shape:', train_x.shape, 'valid shape:', valid_x.shape)\n",
    "    clf = LGBMClassifier(\n",
    "                nthread=4,\n",
    "                n_estimators=1000,\n",
    "                learning_rate=0.02,\n",
    "                max_depth = 10,\n",
    "                num_leaves=60,\n",
    "                colsample_bytree=0.511,\n",
    "                subsample=0.785,\n",
    "                max_bin=208,\n",
    "                reg_alpha=7.009,\n",
    "                reg_lambda=6.579,\n",
    "                min_child_weight=40,\n",
    "                min_child_samples=91,\n",
    "                silent=-1,\n",
    "                verbose=-1,\n",
    "                )\n",
    "\n",
    "    clf.fit(train_x, train_y, eval_set=[(train_x, train_y), (valid_x, valid_y)], eval_metric= 'auc', verbose= 100, \n",
    "                early_stopping_rounds= 100)\n",
    "    \n",
    "    return clf"
   ]
  },
  {
   "cell_type": "code",
   "execution_count": 21,
   "metadata": {},
   "outputs": [
    {
     "name": "stdout",
     "output_type": "stream",
     "text": [
      "prev_agg shape: (338857, 41)\n",
      "apps_all before merge shape: (356255, 135)\n",
      "apps_all after merge with prev_agg shape: (356255, 176)\n",
      "train shape: (215257, 174) valid shape: (92254, 174)\n",
      "Training until validation scores don't improve for 100 rounds\n",
      "[100]\ttraining's auc: 0.77846\ttraining's binary_logloss: 0.244218\tvalid_1's auc: 0.759556\tvalid_1's binary_logloss: 0.248105\n",
      "[200]\ttraining's auc: 0.796572\ttraining's binary_logloss: 0.235664\tvalid_1's auc: 0.768836\tvalid_1's binary_logloss: 0.243304\n",
      "[300]\ttraining's auc: 0.810284\ttraining's binary_logloss: 0.230234\tvalid_1's auc: 0.773212\tvalid_1's binary_logloss: 0.241626\n",
      "[400]\ttraining's auc: 0.821403\ttraining's binary_logloss: 0.225962\tvalid_1's auc: 0.775141\tvalid_1's binary_logloss: 0.240897\n",
      "[500]\ttraining's auc: 0.83147\ttraining's binary_logloss: 0.222151\tvalid_1's auc: 0.776612\tvalid_1's binary_logloss: 0.240362\n",
      "[600]\ttraining's auc: 0.840562\ttraining's binary_logloss: 0.218669\tvalid_1's auc: 0.777501\tvalid_1's binary_logloss: 0.240078\n",
      "[700]\ttraining's auc: 0.84897\ttraining's binary_logloss: 0.215404\tvalid_1's auc: 0.777931\tvalid_1's binary_logloss: 0.239905\n",
      "[800]\ttraining's auc: 0.856591\ttraining's binary_logloss: 0.212366\tvalid_1's auc: 0.778334\tvalid_1's binary_logloss: 0.239778\n",
      "[900]\ttraining's auc: 0.863819\ttraining's binary_logloss: 0.209501\tvalid_1's auc: 0.778506\tvalid_1's binary_logloss: 0.239708\n",
      "[1000]\ttraining's auc: 0.870525\ttraining's binary_logloss: 0.206718\tvalid_1's auc: 0.778718\tvalid_1's binary_logloss: 0.239627\n",
      "Did not meet early stopping. Best iteration is:\n",
      "[1000]\ttraining's auc: 0.870525\ttraining's binary_logloss: 0.206718\tvalid_1's auc: 0.778718\tvalid_1's binary_logloss: 0.239627\n"
     ]
    }
   ],
   "source": [
    "apps_all = get_apps_all_with_prev_agg(apps, prev)\n",
    "apps_all = get_apps_all_encoded(apps_all)\n",
    "apps_all_train, apps_all_test = get_apps_all_train_test(apps_all)\n",
    "clf = train_apps_all(apps_all_train)"
   ]
  },
  {
   "cell_type": "code",
   "execution_count": 22,
   "metadata": {},
   "outputs": [],
   "source": [
    "preds = clf.predict_proba(apps_all_test.drop('SK_ID_CURR', axis=1))[:, 1 ]\n",
    "apps_all_test['TARGET'] = preds\n",
    "apps_all_test[['SK_ID_CURR', 'TARGET']].to_csv('prev_baseline_tuning_02.csv', index=False)"
   ]
  },
  {
   "cell_type": "code",
   "execution_count": null,
   "metadata": {},
   "outputs": [],
   "source": []
  }
 ],
 "metadata": {
  "colab": {
   "collapsed_sections": [],
   "name": "hyper_param_tuning_01_exercise_imsi.ipynb",
   "provenance": [
    {
     "file_id": "1HVJ2UaK5AL7x-BkwYDXrVcNW0AyFT5VY",
     "timestamp": 1599721004762
    }
   ]
  },
  "kernelspec": {
   "display_name": "tf-gpu",
   "language": "python",
   "name": "tf-gpu"
  },
  "language_info": {
   "codemirror_mode": {
    "name": "ipython",
    "version": 3
   },
   "file_extension": ".py",
   "mimetype": "text/x-python",
   "name": "python",
   "nbconvert_exporter": "python",
   "pygments_lexer": "ipython3",
   "version": "3.8.5"
  }
 },
 "nbformat": 4,
 "nbformat_minor": 1
}
